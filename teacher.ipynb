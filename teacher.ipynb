{
 "cells": [
  {
   "cell_type": "markdown",
   "metadata": {
    "toc": true
   },
   "source": [
    "<h1>Содержание<span class=\"tocSkip\"></span></h1>\n",
    "<div class=\"toc\"><ul class=\"toc-item\"><li><span><a href=\"#Подготовка-данных\" data-toc-modified-id=\"Подготовка-данных-1\"><span class=\"toc-item-num\">1&nbsp;&nbsp;</span>Подготовка данных</a></span><ul class=\"toc-item\"><li><span><a href=\"#Вывод\" data-toc-modified-id=\"Вывод-1.1\"><span class=\"toc-item-num\">1.1&nbsp;&nbsp;</span>Вывод</a></span></li></ul></li><li><span><a href=\"#Исследование-задачи\" data-toc-modified-id=\"Исследование-задачи-2\"><span class=\"toc-item-num\">2&nbsp;&nbsp;</span>Исследование задачи</a></span><ul class=\"toc-item\"><li><span><a href=\"#Вывод\" data-toc-modified-id=\"Вывод-2.1\"><span class=\"toc-item-num\">2.1&nbsp;&nbsp;</span>Вывод</a></span></li><li><span><a href=\"#Вывод\" data-toc-modified-id=\"Вывод-2.2\"><span class=\"toc-item-num\">2.2&nbsp;&nbsp;</span>Вывод</a></span></li><li><span><a href=\"#Вывод\" data-toc-modified-id=\"Вывод-2.3\"><span class=\"toc-item-num\">2.3&nbsp;&nbsp;</span>Вывод</a></span></li></ul></li><li><span><a href=\"#Борьба-с-дисбалансом\" data-toc-modified-id=\"Борьба-с-дисбалансом-3\"><span class=\"toc-item-num\">3&nbsp;&nbsp;</span>Борьба с дисбалансом</a></span><ul class=\"toc-item\"><li><span><a href=\"#Вывод\" data-toc-modified-id=\"Вывод-3.1\"><span class=\"toc-item-num\">3.1&nbsp;&nbsp;</span>Вывод</a></span></li><li><span><a href=\"#Вывод\" data-toc-modified-id=\"Вывод-3.2\"><span class=\"toc-item-num\">3.2&nbsp;&nbsp;</span>Вывод</a></span></li><li><span><a href=\"#Вывод\" data-toc-modified-id=\"Вывод-3.3\"><span class=\"toc-item-num\">3.3&nbsp;&nbsp;</span>Вывод</a></span></li><li><span><a href=\"#Вывод\" data-toc-modified-id=\"Вывод-3.4\"><span class=\"toc-item-num\">3.4&nbsp;&nbsp;</span>Вывод</a></span></li><li><span><a href=\"#Вывод\" data-toc-modified-id=\"Вывод-3.5\"><span class=\"toc-item-num\">3.5&nbsp;&nbsp;</span>Вывод</a></span></li><li><span><a href=\"#Вывод\" data-toc-modified-id=\"Вывод-3.6\"><span class=\"toc-item-num\">3.6&nbsp;&nbsp;</span>Вывод</a></span></li><li><span><a href=\"#Вывод\" data-toc-modified-id=\"Вывод-3.7\"><span class=\"toc-item-num\">3.7&nbsp;&nbsp;</span>Вывод</a></span></li><li><span><a href=\"#Вывод\" data-toc-modified-id=\"Вывод-3.8\"><span class=\"toc-item-num\">3.8&nbsp;&nbsp;</span>Вывод</a></span></li><li><span><a href=\"#Вывод\" data-toc-modified-id=\"Вывод-3.9\"><span class=\"toc-item-num\">3.9&nbsp;&nbsp;</span>Вывод</a></span></li><li><span><a href=\"#Общий-вывод\" data-toc-modified-id=\"Общий-вывод-3.10\"><span class=\"toc-item-num\">3.10&nbsp;&nbsp;</span>Общий вывод</a></span></li></ul></li><li><span><a href=\"#Тестирование-модели\" data-toc-modified-id=\"Тестирование-модели-4\"><span class=\"toc-item-num\">4&nbsp;&nbsp;</span>Тестирование модели</a></span><ul class=\"toc-item\"><li><span><a href=\"#Вывод-о-результате-тестирования\" data-toc-modified-id=\"Вывод-о-результате-тестирования-4.1\"><span class=\"toc-item-num\">4.1&nbsp;&nbsp;</span>Вывод о результате тестирования</a></span></li></ul></li><li><span><a href=\"#Чек-лист-готовности-проекта\" data-toc-modified-id=\"Чек-лист-готовности-проекта-5\"><span class=\"toc-item-num\">5&nbsp;&nbsp;</span>Чек-лист готовности проекта</a></span></li></ul></div>"
   ]
  },
  {
   "cell_type": "markdown",
   "metadata": {},
   "source": [
    "# Отток клиентов"
   ]
  },
  {
   "cell_type": "markdown",
   "metadata": {},
   "source": [
    "Из «Бета-Банка» стали уходить клиенты. Каждый месяц. Немного, но заметно. Банковские маркетологи посчитали: сохранять текущих клиентов дешевле, чем привлекать новых.\n",
    "\n",
    "Нужно спрогнозировать, уйдёт клиент из банка в ближайшее время или нет. Вам предоставлены исторические данные о поведении клиентов и расторжении договоров с банком. \n",
    "\n",
    "Постройте модель с предельно большим значением *F1*-меры. Чтобы сдать проект успешно, нужно довести метрику до 0.59. Проверьте *F1*-меру на тестовой выборке самостоятельно.\n",
    "\n",
    "Дополнительно измеряйте *AUC-ROC*, сравнивайте её значение с *F1*-мерой.\n",
    "\n",
    "Источник данных: [https://www.kaggle.com/barelydedicated/bank-customer-churn-modeling](https://www.kaggle.com/barelydedicated/bank-customer-churn-modeling)"
   ]
  },
  {
   "cell_type": "markdown",
   "metadata": {},
   "source": [
    "## Подготовка данных"
   ]
  },
  {
   "cell_type": "code",
   "execution_count": 1,
   "metadata": {},
   "outputs": [],
   "source": [
    "import pandas as pd # импорт библиотеки pandas\n",
    "from sklearn.tree import DecisionTreeClassifier # импорт библиотеки для классификации деревом решений\n",
    "from sklearn.ensemble import RandomForestClassifier # импорт библиотеки для классификации случайный лес\n",
    "from sklearn.linear_model import LogisticRegression # импорт библиотеки для классификации логистическая регрессия\n",
    "from sklearn.model_selection import train_test_split # импорт функциии train_test_split из библиотеки sklearn\n",
    "from sklearn.preprocessing import StandardScaler # импорт StandardScaler из библиотеки sklearn\n",
    "from sklearn.metrics import f1_score # импорт функции расчёта f1_score из библиотеки sklearn\n",
    "from sklearn.utils import shuffle # импорт shuffle из библиотеки sklearn\n",
    "from sklearn.metrics import roc_auc_score # импорт метрики roc_auc_score из библиотеки sklearn"
   ]
  },
  {
   "cell_type": "code",
   "execution_count": 2,
   "metadata": {},
   "outputs": [],
   "source": [
    "df = pd.read_csv('/Users/julyn/GIT/project/Churn.csv') # чтение файла с данными и сохранение в df"
   ]
  },
  {
   "cell_type": "code",
   "execution_count": 3,
   "metadata": {},
   "outputs": [
    {
     "data": {
      "text/html": [
       "<div>\n",
       "<style scoped>\n",
       "    .dataframe tbody tr th:only-of-type {\n",
       "        vertical-align: middle;\n",
       "    }\n",
       "\n",
       "    .dataframe tbody tr th {\n",
       "        vertical-align: top;\n",
       "    }\n",
       "\n",
       "    .dataframe thead th {\n",
       "        text-align: right;\n",
       "    }\n",
       "</style>\n",
       "<table border=\"1\" class=\"dataframe\">\n",
       "  <thead>\n",
       "    <tr style=\"text-align: right;\">\n",
       "      <th></th>\n",
       "      <th>RowNumber</th>\n",
       "      <th>CustomerId</th>\n",
       "      <th>Surname</th>\n",
       "      <th>CreditScore</th>\n",
       "      <th>Geography</th>\n",
       "      <th>Gender</th>\n",
       "      <th>Age</th>\n",
       "      <th>Tenure</th>\n",
       "      <th>Balance</th>\n",
       "      <th>NumOfProducts</th>\n",
       "      <th>HasCrCard</th>\n",
       "      <th>IsActiveMember</th>\n",
       "      <th>EstimatedSalary</th>\n",
       "      <th>Exited</th>\n",
       "    </tr>\n",
       "  </thead>\n",
       "  <tbody>\n",
       "    <tr>\n",
       "      <th>0</th>\n",
       "      <td>1</td>\n",
       "      <td>15634602</td>\n",
       "      <td>Hargrave</td>\n",
       "      <td>619</td>\n",
       "      <td>France</td>\n",
       "      <td>Female</td>\n",
       "      <td>42</td>\n",
       "      <td>2.0</td>\n",
       "      <td>0.00</td>\n",
       "      <td>1</td>\n",
       "      <td>1</td>\n",
       "      <td>1</td>\n",
       "      <td>101348.88</td>\n",
       "      <td>1</td>\n",
       "    </tr>\n",
       "    <tr>\n",
       "      <th>1</th>\n",
       "      <td>2</td>\n",
       "      <td>15647311</td>\n",
       "      <td>Hill</td>\n",
       "      <td>608</td>\n",
       "      <td>Spain</td>\n",
       "      <td>Female</td>\n",
       "      <td>41</td>\n",
       "      <td>1.0</td>\n",
       "      <td>83807.86</td>\n",
       "      <td>1</td>\n",
       "      <td>0</td>\n",
       "      <td>1</td>\n",
       "      <td>112542.58</td>\n",
       "      <td>0</td>\n",
       "    </tr>\n",
       "    <tr>\n",
       "      <th>2</th>\n",
       "      <td>3</td>\n",
       "      <td>15619304</td>\n",
       "      <td>Onio</td>\n",
       "      <td>502</td>\n",
       "      <td>France</td>\n",
       "      <td>Female</td>\n",
       "      <td>42</td>\n",
       "      <td>8.0</td>\n",
       "      <td>159660.80</td>\n",
       "      <td>3</td>\n",
       "      <td>1</td>\n",
       "      <td>0</td>\n",
       "      <td>113931.57</td>\n",
       "      <td>1</td>\n",
       "    </tr>\n",
       "    <tr>\n",
       "      <th>3</th>\n",
       "      <td>4</td>\n",
       "      <td>15701354</td>\n",
       "      <td>Boni</td>\n",
       "      <td>699</td>\n",
       "      <td>France</td>\n",
       "      <td>Female</td>\n",
       "      <td>39</td>\n",
       "      <td>1.0</td>\n",
       "      <td>0.00</td>\n",
       "      <td>2</td>\n",
       "      <td>0</td>\n",
       "      <td>0</td>\n",
       "      <td>93826.63</td>\n",
       "      <td>0</td>\n",
       "    </tr>\n",
       "    <tr>\n",
       "      <th>4</th>\n",
       "      <td>5</td>\n",
       "      <td>15737888</td>\n",
       "      <td>Mitchell</td>\n",
       "      <td>850</td>\n",
       "      <td>Spain</td>\n",
       "      <td>Female</td>\n",
       "      <td>43</td>\n",
       "      <td>2.0</td>\n",
       "      <td>125510.82</td>\n",
       "      <td>1</td>\n",
       "      <td>1</td>\n",
       "      <td>1</td>\n",
       "      <td>79084.10</td>\n",
       "      <td>0</td>\n",
       "    </tr>\n",
       "  </tbody>\n",
       "</table>\n",
       "</div>"
      ],
      "text/plain": [
       "   RowNumber  CustomerId   Surname  CreditScore Geography  Gender  Age  \\\n",
       "0          1    15634602  Hargrave          619    France  Female   42   \n",
       "1          2    15647311      Hill          608     Spain  Female   41   \n",
       "2          3    15619304      Onio          502    France  Female   42   \n",
       "3          4    15701354      Boni          699    France  Female   39   \n",
       "4          5    15737888  Mitchell          850     Spain  Female   43   \n",
       "\n",
       "   Tenure    Balance  NumOfProducts  HasCrCard  IsActiveMember  \\\n",
       "0     2.0       0.00              1          1               1   \n",
       "1     1.0   83807.86              1          0               1   \n",
       "2     8.0  159660.80              3          1               0   \n",
       "3     1.0       0.00              2          0               0   \n",
       "4     2.0  125510.82              1          1               1   \n",
       "\n",
       "   EstimatedSalary  Exited  \n",
       "0        101348.88       1  \n",
       "1        112542.58       0  \n",
       "2        113931.57       1  \n",
       "3         93826.63       0  \n",
       "4         79084.10       0  "
      ]
     },
     "metadata": {},
     "output_type": "display_data"
    }
   ],
   "source": [
    "display(df.head()) # получение первых 5 строк таблицы df"
   ]
  },
  {
   "cell_type": "code",
   "execution_count": 4,
   "metadata": {},
   "outputs": [
    {
     "name": "stdout",
     "output_type": "stream",
     "text": [
      "<class 'pandas.core.frame.DataFrame'>\n",
      "RangeIndex: 10000 entries, 0 to 9999\n",
      "Data columns (total 14 columns):\n",
      " #   Column           Non-Null Count  Dtype  \n",
      "---  ------           --------------  -----  \n",
      " 0   RowNumber        10000 non-null  int64  \n",
      " 1   CustomerId       10000 non-null  int64  \n",
      " 2   Surname          10000 non-null  object \n",
      " 3   CreditScore      10000 non-null  int64  \n",
      " 4   Geography        10000 non-null  object \n",
      " 5   Gender           10000 non-null  object \n",
      " 6   Age              10000 non-null  int64  \n",
      " 7   Tenure           9091 non-null   float64\n",
      " 8   Balance          10000 non-null  float64\n",
      " 9   NumOfProducts    10000 non-null  int64  \n",
      " 10  HasCrCard        10000 non-null  int64  \n",
      " 11  IsActiveMember   10000 non-null  int64  \n",
      " 12  EstimatedSalary  10000 non-null  float64\n",
      " 13  Exited           10000 non-null  int64  \n",
      "dtypes: float64(3), int64(8), object(3)\n",
      "memory usage: 1.1+ MB\n"
     ]
    }
   ],
   "source": [
    "df.info() # получение общей информации о данных в таблице df"
   ]
  },
  {
   "cell_type": "markdown",
   "metadata": {},
   "source": [
    "Данные соответствуют формату. В столбце `Tenure` — сколько лет человек является клиентом банка, видим пропуски.\n",
    "Описание данных:"
   ]
  },
  {
   "cell_type": "markdown",
   "metadata": {},
   "source": [
    "Признаки\n",
    "\n",
    "- `RowNumber` — индекс строки в данных\n",
    "- `CustomerId` — уникальный идентификатор клиента\n",
    "- `Surname` — фамилия\n",
    "- `CreditScore` — кредитный рейтинг\n",
    "- `Geography` — страна проживания\n",
    "- `Gender` — пол\n",
    "- `Age` — возраст\n",
    "- `Tenure` — сколько лет человек является клиентом банка\n",
    "- `Balance` — баланс на счёте\n",
    "- `NumOfProducts` — количество продуктов банка, используемых клиентом\n",
    "- `HasCrCard` — наличие кредитной карты\n",
    "- `IsActiveMember` — активность клиента\n",
    "- `EstimatedSalary` — предполагаемая зарплата\n",
    "\n",
    "Целевой признак\n",
    "- `Exited` — факт ухода клиента"
   ]
  },
  {
   "cell_type": "markdown",
   "metadata": {},
   "source": [
    "Изучим данные стобца `Tenure`. Воспользуемся методом `value_counts()`."
   ]
  },
  {
   "cell_type": "code",
   "execution_count": 5,
   "metadata": {},
   "outputs": [
    {
     "data": {
      "text/plain": [
       "1.0     952\n",
       "2.0     950\n",
       "8.0     933\n",
       "3.0     928\n",
       "5.0     927\n",
       "7.0     925\n",
       "4.0     885\n",
       "9.0     882\n",
       "6.0     881\n",
       "10.0    446\n",
       "0.0     382\n",
       "Name: Tenure, dtype: int64"
      ]
     },
     "execution_count": 5,
     "metadata": {},
     "output_type": "execute_result"
    }
   ],
   "source": [
    "df['Tenure'].value_counts()"
   ]
  },
  {
   "cell_type": "markdown",
   "metadata": {},
   "source": [
    "Видим, что данные с 0 присутствуют, есть клиенты, которые только стали клиентами банка. Так как заполнить пропуски нужно, но у нас нет возможности понять почему данные пропущены, то заполним данные пропуски 0. Воспользуемся методом `fillna()` и проверим данные методом `info()`."
   ]
  },
  {
   "cell_type": "code",
   "execution_count": 6,
   "metadata": {},
   "outputs": [
    {
     "name": "stdout",
     "output_type": "stream",
     "text": [
      "<class 'pandas.core.frame.DataFrame'>\n",
      "RangeIndex: 10000 entries, 0 to 9999\n",
      "Data columns (total 14 columns):\n",
      " #   Column           Non-Null Count  Dtype  \n",
      "---  ------           --------------  -----  \n",
      " 0   RowNumber        10000 non-null  int64  \n",
      " 1   CustomerId       10000 non-null  int64  \n",
      " 2   Surname          10000 non-null  object \n",
      " 3   CreditScore      10000 non-null  int64  \n",
      " 4   Geography        10000 non-null  object \n",
      " 5   Gender           10000 non-null  object \n",
      " 6   Age              10000 non-null  int64  \n",
      " 7   Tenure           10000 non-null  float64\n",
      " 8   Balance          10000 non-null  float64\n",
      " 9   NumOfProducts    10000 non-null  int64  \n",
      " 10  HasCrCard        10000 non-null  int64  \n",
      " 11  IsActiveMember   10000 non-null  int64  \n",
      " 12  EstimatedSalary  10000 non-null  float64\n",
      " 13  Exited           10000 non-null  int64  \n",
      "dtypes: float64(3), int64(8), object(3)\n",
      "memory usage: 1.1+ MB\n"
     ]
    }
   ],
   "source": [
    "df['Tenure'] = df['Tenure'].fillna(0)\n",
    "df.info()"
   ]
  },
  {
   "cell_type": "markdown",
   "metadata": {},
   "source": [
    "В таблице присутствует столбцы `Surname`, `RowNumber`, `CustomerId`. Они не несут информации нужной для обучения модели. Удалим данные столбцы методом `drop()` и и проверим данные методом `info()`."
   ]
  },
  {
   "cell_type": "code",
   "execution_count": 7,
   "metadata": {},
   "outputs": [
    {
     "name": "stdout",
     "output_type": "stream",
     "text": [
      "<class 'pandas.core.frame.DataFrame'>\n",
      "RangeIndex: 10000 entries, 0 to 9999\n",
      "Data columns (total 11 columns):\n",
      " #   Column           Non-Null Count  Dtype  \n",
      "---  ------           --------------  -----  \n",
      " 0   CreditScore      10000 non-null  int64  \n",
      " 1   Geography        10000 non-null  object \n",
      " 2   Gender           10000 non-null  object \n",
      " 3   Age              10000 non-null  int64  \n",
      " 4   Tenure           10000 non-null  float64\n",
      " 5   Balance          10000 non-null  float64\n",
      " 6   NumOfProducts    10000 non-null  int64  \n",
      " 7   HasCrCard        10000 non-null  int64  \n",
      " 8   IsActiveMember   10000 non-null  int64  \n",
      " 9   EstimatedSalary  10000 non-null  float64\n",
      " 10  Exited           10000 non-null  int64  \n",
      "dtypes: float64(3), int64(6), object(2)\n",
      "memory usage: 859.5+ KB\n"
     ]
    }
   ],
   "source": [
    "df = df.drop(['Surname', 'RowNumber', 'CustomerId'], axis=1)\n",
    "df.info()"
   ]
  },
  {
   "cell_type": "markdown",
   "metadata": {},
   "source": [
    "Так же в таблице присутствует категориальный признак в столбце `Geography`. Проверим его методом `value_counts()`."
   ]
  },
  {
   "cell_type": "code",
   "execution_count": 8,
   "metadata": {},
   "outputs": [
    {
     "data": {
      "text/plain": [
       "France     5014\n",
       "Germany    2509\n",
       "Spain      2477\n",
       "Name: Geography, dtype: int64"
      ]
     },
     "execution_count": 8,
     "metadata": {},
     "output_type": "execute_result"
    }
   ],
   "source": [
    "df['Geography'].value_counts()"
   ]
  },
  {
   "cell_type": "markdown",
   "metadata": {},
   "source": [
    "Всего три страны. Оставим данные для обучения модели. "
   ]
  },
  {
   "cell_type": "markdown",
   "metadata": {},
   "source": [
    "Для обучения модели нужны числовые признаки. Наши данные содержат и категориальные тоже. Необходимо преобразовать категориальные признаки в количественные. Для преобразования признаков, воспользуемся техникой прямого кодирования (OHE). Чтобы не попасть в дамми-ловушку удалим один столбец, добавив аргумент `drop_first=True`."
   ]
  },
  {
   "cell_type": "code",
   "execution_count": 9,
   "metadata": {},
   "outputs": [
    {
     "name": "stdout",
     "output_type": "stream",
     "text": [
      "<class 'pandas.core.frame.DataFrame'>\n",
      "RangeIndex: 10000 entries, 0 to 9999\n",
      "Data columns (total 12 columns):\n",
      " #   Column             Non-Null Count  Dtype  \n",
      "---  ------             --------------  -----  \n",
      " 0   CreditScore        10000 non-null  int64  \n",
      " 1   Age                10000 non-null  int64  \n",
      " 2   Tenure             10000 non-null  float64\n",
      " 3   Balance            10000 non-null  float64\n",
      " 4   NumOfProducts      10000 non-null  int64  \n",
      " 5   HasCrCard          10000 non-null  int64  \n",
      " 6   IsActiveMember     10000 non-null  int64  \n",
      " 7   EstimatedSalary    10000 non-null  float64\n",
      " 8   Exited             10000 non-null  int64  \n",
      " 9   Geography_Germany  10000 non-null  uint8  \n",
      " 10  Geography_Spain    10000 non-null  uint8  \n",
      " 11  Gender_Male        10000 non-null  uint8  \n",
      "dtypes: float64(3), int64(6), uint8(3)\n",
      "memory usage: 732.5 KB\n"
     ]
    }
   ],
   "source": [
    "df = pd.get_dummies(df, drop_first=True)\n",
    "df.info() # получение первых 5 строк таблицы df"
   ]
  },
  {
   "cell_type": "markdown",
   "metadata": {},
   "source": [
    "Изучим баланс классов целевого признака `Exited`. Воспользуемся методом `value_counts()`."
   ]
  },
  {
   "cell_type": "code",
   "execution_count": 10,
   "metadata": {},
   "outputs": [
    {
     "data": {
      "text/plain": [
       "0    7963\n",
       "1    2037\n",
       "Name: Exited, dtype: int64"
      ]
     },
     "execution_count": 10,
     "metadata": {},
     "output_type": "execute_result"
    }
   ],
   "source": [
    "df['Exited'].value_counts()"
   ]
  },
  {
   "cell_type": "markdown",
   "metadata": {},
   "source": [
    "В данных присутствует дисбаланс классов целевого признака."
   ]
  },
  {
   "cell_type": "markdown",
   "metadata": {},
   "source": [
    "###  Вывод\n",
    "\n",
    "Мы изучили данные, заполнили пропуски, удалили столбец, привели все признаки к количественным, выявили дисбаланс классов в целевом признаке. "
   ]
  },
  {
   "cell_type": "markdown",
   "metadata": {},
   "source": [
    "## Исследование задачи"
   ]
  },
  {
   "cell_type": "markdown",
   "metadata": {},
   "source": [
    "Для решения задачи необходимо разделить данные на признаки и целевой признак. Создадим столбецы `target` с целевым признаком `Exited` и `features` из которого удалим целевой признак. Воспользуемся методом `drop()`."
   ]
  },
  {
   "cell_type": "code",
   "execution_count": 11,
   "metadata": {},
   "outputs": [],
   "source": [
    "target = df['Exited']"
   ]
  },
  {
   "cell_type": "code",
   "execution_count": 12,
   "metadata": {},
   "outputs": [],
   "source": [
    "features = df.drop(['Exited'], axis=1)"
   ]
  },
  {
   "cell_type": "markdown",
   "metadata": {},
   "source": [
    "В наших данных у признаков разный маштаб. Для построения рабочей модели стандартизируем признаки. Для этого создадим данные `numeric`, в котором перечислим признаки, которые будем стандартизировать. Воспользуемся структурой `StandardScaler()` и посмотрим результат."
   ]
  },
  {
   "cell_type": "code",
   "execution_count": 13,
   "metadata": {},
   "outputs": [
    {
     "data": {
      "text/html": [
       "<div>\n",
       "<style scoped>\n",
       "    .dataframe tbody tr th:only-of-type {\n",
       "        vertical-align: middle;\n",
       "    }\n",
       "\n",
       "    .dataframe tbody tr th {\n",
       "        vertical-align: top;\n",
       "    }\n",
       "\n",
       "    .dataframe thead th {\n",
       "        text-align: right;\n",
       "    }\n",
       "</style>\n",
       "<table border=\"1\" class=\"dataframe\">\n",
       "  <thead>\n",
       "    <tr style=\"text-align: right;\">\n",
       "      <th></th>\n",
       "      <th>CreditScore</th>\n",
       "      <th>Age</th>\n",
       "      <th>Tenure</th>\n",
       "      <th>Balance</th>\n",
       "      <th>NumOfProducts</th>\n",
       "      <th>HasCrCard</th>\n",
       "      <th>IsActiveMember</th>\n",
       "      <th>EstimatedSalary</th>\n",
       "      <th>Geography_Germany</th>\n",
       "      <th>Geography_Spain</th>\n",
       "      <th>Gender_Male</th>\n",
       "    </tr>\n",
       "  </thead>\n",
       "  <tbody>\n",
       "    <tr>\n",
       "      <th>0</th>\n",
       "      <td>-0.326221</td>\n",
       "      <td>0.293517</td>\n",
       "      <td>-0.817441</td>\n",
       "      <td>-1.225848</td>\n",
       "      <td>-0.911583</td>\n",
       "      <td>1</td>\n",
       "      <td>1</td>\n",
       "      <td>0.021886</td>\n",
       "      <td>0</td>\n",
       "      <td>0</td>\n",
       "      <td>0</td>\n",
       "    </tr>\n",
       "    <tr>\n",
       "      <th>1</th>\n",
       "      <td>-0.440036</td>\n",
       "      <td>0.198164</td>\n",
       "      <td>-1.138838</td>\n",
       "      <td>0.117350</td>\n",
       "      <td>-0.911583</td>\n",
       "      <td>0</td>\n",
       "      <td>1</td>\n",
       "      <td>0.216534</td>\n",
       "      <td>0</td>\n",
       "      <td>1</td>\n",
       "      <td>0</td>\n",
       "    </tr>\n",
       "    <tr>\n",
       "      <th>2</th>\n",
       "      <td>-1.536794</td>\n",
       "      <td>0.293517</td>\n",
       "      <td>1.110941</td>\n",
       "      <td>1.333053</td>\n",
       "      <td>2.527057</td>\n",
       "      <td>1</td>\n",
       "      <td>0</td>\n",
       "      <td>0.240687</td>\n",
       "      <td>0</td>\n",
       "      <td>0</td>\n",
       "      <td>0</td>\n",
       "    </tr>\n",
       "    <tr>\n",
       "      <th>3</th>\n",
       "      <td>0.501521</td>\n",
       "      <td>0.007457</td>\n",
       "      <td>-1.138838</td>\n",
       "      <td>-1.225848</td>\n",
       "      <td>0.807737</td>\n",
       "      <td>0</td>\n",
       "      <td>0</td>\n",
       "      <td>-0.108918</td>\n",
       "      <td>0</td>\n",
       "      <td>0</td>\n",
       "      <td>0</td>\n",
       "    </tr>\n",
       "    <tr>\n",
       "      <th>4</th>\n",
       "      <td>2.063884</td>\n",
       "      <td>0.388871</td>\n",
       "      <td>-0.817441</td>\n",
       "      <td>0.785728</td>\n",
       "      <td>-0.911583</td>\n",
       "      <td>1</td>\n",
       "      <td>1</td>\n",
       "      <td>-0.365276</td>\n",
       "      <td>0</td>\n",
       "      <td>1</td>\n",
       "      <td>0</td>\n",
       "    </tr>\n",
       "  </tbody>\n",
       "</table>\n",
       "</div>"
      ],
      "text/plain": [
       "   CreditScore       Age    Tenure   Balance  NumOfProducts  HasCrCard  \\\n",
       "0    -0.326221  0.293517 -0.817441 -1.225848      -0.911583          1   \n",
       "1    -0.440036  0.198164 -1.138838  0.117350      -0.911583          0   \n",
       "2    -1.536794  0.293517  1.110941  1.333053       2.527057          1   \n",
       "3     0.501521  0.007457 -1.138838 -1.225848       0.807737          0   \n",
       "4     2.063884  0.388871 -0.817441  0.785728      -0.911583          1   \n",
       "\n",
       "   IsActiveMember  EstimatedSalary  Geography_Germany  Geography_Spain  \\\n",
       "0               1         0.021886                  0                0   \n",
       "1               1         0.216534                  0                1   \n",
       "2               0         0.240687                  0                0   \n",
       "3               0        -0.108918                  0                0   \n",
       "4               1        -0.365276                  0                1   \n",
       "\n",
       "   Gender_Male  \n",
       "0            0  \n",
       "1            0  \n",
       "2            0  \n",
       "3            0  \n",
       "4            0  "
      ]
     },
     "metadata": {},
     "output_type": "display_data"
    }
   ],
   "source": [
    "numeric = ['CreditScore', 'Age', 'Tenure', 'Balance', 'NumOfProducts', 'EstimatedSalary']\n",
    "\n",
    "scaler = StandardScaler()\n",
    "scaler.fit(features[numeric])\n",
    "features[numeric] = scaler.transform(features[numeric])\n",
    "pd.options.mode.chained_assignment = None\n",
    "display(features.head())"
   ]
  },
  {
   "cell_type": "markdown",
   "metadata": {},
   "source": [
    "Создадим новые переменные для трех выборок. `features_train`, `features_valid`, `features_test` - запишем признаки, а в `target_train`, `target_valid`, `target_test` — целевые признаки. Воспользуемся методом `train_test_split()`, применим признак `random_state=765` и выведем данные для просмотра."
   ]
  },
  {
   "cell_type": "code",
   "execution_count": 14,
   "metadata": {},
   "outputs": [],
   "source": [
    "features_train, features_valid, target_train, target_valid = train_test_split(features, target, test_size=0.20, random_state=765)\n",
    "features_train, features_test, target_train, target_test = train_test_split(features_train, target_train, test_size=0.25, random_state=765) "
   ]
  },
  {
   "cell_type": "code",
   "execution_count": 15,
   "metadata": {},
   "outputs": [
    {
     "name": "stdout",
     "output_type": "stream",
     "text": [
      "(6000, 11)\n",
      "(6000,)\n",
      "(2000, 11)\n",
      "(2000,)\n",
      "(2000, 11)\n",
      "(2000,)\n"
     ]
    }
   ],
   "source": [
    "print(features_train.shape) # выведим данные для просмотра\n",
    "print(target_train.shape) # выведим данные для просмотра\n",
    "print(features_valid.shape) # выведим данные для просмотра\n",
    "print(target_valid.shape) # выведим данные для просмотра\n",
    "print(features_test.shape) # выведим данные для просмотра\n",
    "print(target_test.shape) # выведим данные для просмотра"
   ]
  },
  {
   "cell_type": "markdown",
   "metadata": {},
   "source": [
    "Рассмотрим обучающую модель \"решающее дерево\". Настроим гиперпараметр `max_depth` дерева решений с помощью цикла `for`, который переберет данные от 1 до 15.  С помощью метрики `f1_score()`, увидим лучший результат на валидационной выборке. "
   ]
  },
  {
   "cell_type": "code",
   "execution_count": 16,
   "metadata": {},
   "outputs": [
    {
     "name": "stdout",
     "output_type": "stream",
     "text": [
      "F1 наилучшей модели на валидационной выборке: 0.5698924731182795 Наилучшая глубина на валидационной выборке: DecisionTreeClassifier(max_depth=9, random_state=765)\n"
     ]
    }
   ],
   "source": [
    "best_model_depth = None\n",
    "best_result_depth = 0\n",
    "for depth in range(1, 16, 1):\n",
    "    model_tree = DecisionTreeClassifier(random_state=765, max_depth=depth) # обучим модель с заданной глубиной от 1 до 15\n",
    "    model_tree.fit(features_train, target_train) # обучим модель на обучающей выборке\n",
    "    predicted_valid_tree = model_tree.predict(features_valid)\n",
    "    result_depth = f1_score(target_valid, predicted_valid_tree) # посчитаем качество модели на валидационной выборке\n",
    "    if result_depth > best_result_depth:\n",
    "        best_model_depth = model_tree # сохраним наилучшую модель\n",
    "        best_result_depth = result_depth \n",
    "print(\"F1 наилучшей модели на валидационной выборке:\", best_result_depth, \"Наилучшая глубина на валидационной выборке:\", best_model_depth) "
   ]
  },
  {
   "cell_type": "markdown",
   "metadata": {},
   "source": [
    "Модель \"решающее дерево\" показало результат метрики `f1_score()` - 0.569 при глубине 9. Проверим модель метрикой `roc_auc_score` и сравним данные. Для этого обучим модель с глубиной 9, посчитаем метрику `roc_auc_score`, сохранив данные в `auc_roc`."
   ]
  },
  {
   "cell_type": "code",
   "execution_count": 17,
   "metadata": {},
   "outputs": [
    {
     "name": "stdout",
     "output_type": "stream",
     "text": [
      "0.7966893683374331\n"
     ]
    }
   ],
   "source": [
    "model_tree = DecisionTreeClassifier(random_state=765, max_depth=9)\n",
    "model_tree.fit(features_train, target_train)\n",
    "probabilities_valid = model_tree.predict_proba(features_valid)\n",
    "probabilities_one_valid = probabilities_valid[:, 1]\n",
    "auc_roc = roc_auc_score(target_valid, probabilities_one_valid)\n",
    "print(auc_roc)"
   ]
  },
  {
   "cell_type": "code",
   "execution_count": 18,
   "metadata": {},
   "outputs": [
    {
     "name": "stdout",
     "output_type": "stream",
     "text": [
      "0.8208009892249352\n"
     ]
    }
   ],
   "source": [
    "model_tree = DecisionTreeClassifier(random_state=765, max_depth=7)\n",
    "model_tree.fit(features_train, target_train)\n",
    "probabilities_valid = model_tree.predict_proba(features_valid)\n",
    "probabilities_one_valid = probabilities_valid[:, 1]\n",
    "auc_roc = roc_auc_score(target_valid, probabilities_one_valid)\n",
    "print(auc_roc)"
   ]
  },
  {
   "cell_type": "markdown",
   "metadata": {},
   "source": [
    "###  Вывод\n",
    "\n",
    "Изучив обучающую модель \"решающее дерево\", нашли оптимальное количество глубины равное 9. Получили результат метрики `f1_score()` - 0.569, метрики `roc_auc_score` - 0.797."
   ]
  },
  {
   "cell_type": "markdown",
   "metadata": {},
   "source": [
    "Рассмотрим обучающую модель \"случайный лес\". Настроим гиперпараметр `n_estimators` случайного леса с помощью цикла `for`, который переберет данные от 1 до 100 и гиперпараметр `max_depth` с 1 до 15. С помощью метрики `f1_score()`, увидим лучший результат на валидационной выборке. "
   ]
  },
  {
   "cell_type": "code",
   "execution_count": 19,
   "metadata": {},
   "outputs": [
    {
     "name": "stdout",
     "output_type": "stream",
     "text": [
      "F1 наилучшей модели на валидационной выборке: 0.599713055954089 Наилучшее число деревьев на валидационной выборке: RandomForestClassifier(max_depth=14, n_estimators=37, random_state=765)\n"
     ]
    }
   ],
   "source": [
    "best_model = None\n",
    "best_result = 0\n",
    "for est in range(1, 100, 1):\n",
    "    for depth in range(1, 16, 1): \n",
    "        model_est = RandomForestClassifier(random_state=765, n_estimators=est, max_depth=depth) # обучим модель с заданным количеством деревьев\n",
    "        model_est.fit(features_train, target_train) # обучим модель на обучающей выборке\n",
    "        predicted_valid_est = model_est.predict(features_valid)\n",
    "        result = f1_score(target_valid, predicted_valid_est) # посчитаем качество модели на валидационной выборке\n",
    "        if result > best_result:\n",
    "            best_model = model_est # сохраним наилучшую модель\n",
    "            best_result = result #  сохраним наилучшее значение метрики на валидационных данных\n",
    "                \n",
    "                \n",
    "print(\"F1 наилучшей модели на валидационной выборке:\", best_result, \"Наилучшее число деревьев на валидационной выборке:\", best_model)"
   ]
  },
  {
   "cell_type": "markdown",
   "metadata": {},
   "source": [
    "Модель \"случайный лес\" показала результат метрики `f1_score()` - 0.600 при глубине 14 и количеством деревьев 37. Проверим модель метрикой `roc_auc_score` и сравним данные. Для этого обучим модель с глубиной 7, посчитаем метрику `roc_auc_score`, сохранив данные в `auc_roc`."
   ]
  },
  {
   "cell_type": "code",
   "execution_count": 20,
   "metadata": {},
   "outputs": [
    {
     "name": "stdout",
     "output_type": "stream",
     "text": [
      "0.8119043022147024\n"
     ]
    }
   ],
   "source": [
    "model_est = RandomForestClassifier(random_state=765, n_estimators=14, max_depth=37)\n",
    "model_est.fit(features_train, target_train)\n",
    "probabilities_valid = model_est.predict_proba(features_valid)\n",
    "probabilities_one_valid = probabilities_valid[:, 1]\n",
    "auc_roc = roc_auc_score(target_valid, probabilities_one_valid)\n",
    "print(auc_roc)"
   ]
  },
  {
   "cell_type": "markdown",
   "metadata": {},
   "source": [
    "###  Вывод\n",
    "\n",
    "Изучив обучающую модель \"случайный лес\", нашли оптимальное количество глубины равное 14 и количеству деревьев равное 37. Получили результат метрики `f1_score()` - 0.600, метрики `roc_auc_score` - 0.812.\n",
    "\n",
    "Обучив модели без учета дисбаланса классов, можно сделать вывод, что лучший результат метрик `f1_score()` и `roc_auc_score`показала модель \"случайный лес\" с  глубиной 14 и количеством деревьев 37: `f1_score()` - 0.600, метрики `roc_auc_score` - 0.812."
   ]
  },
  {
   "cell_type": "markdown",
   "metadata": {},
   "source": [
    "## Борьба с дисбалансом"
   ]
  },
  {
   "cell_type": "markdown",
   "metadata": {},
   "source": [
    "Изучив модели без учета дисбаланса классов мы получили не самые хорошие показатели метрик. Так как наши данные имеют сильный дисбаланс проведем исследование с учетом дисбаланса.\n",
    "\n",
    "Придадим объектам редкого класса больший вес. Для этого применим аргумент `class_weight='balanced'`. \n",
    "\n",
    "Начнем исследования с модели \"логистическая регрессиия\". Настроим гиперпараметр `solver`='liblinear'и `random_state=765` и добавим аргумент `class_weight='balanced'`. Проверим качество модели метрикой `f1_score()`."
   ]
  },
  {
   "cell_type": "code",
   "execution_count": 21,
   "metadata": {},
   "outputs": [
    {
     "name": "stdout",
     "output_type": "stream",
     "text": [
      "F1: 0.4869857262804366\n"
     ]
    }
   ],
   "source": [
    "model_log = LogisticRegression(random_state=765, solver='liblinear', class_weight='balanced')\n",
    "model_log.fit(features_train, target_train)\n",
    "predicted_valid_log = model_log.predict(features_valid)\n",
    "print(\"F1:\", f1_score(target_valid, predicted_valid_log))"
   ]
  },
  {
   "cell_type": "markdown",
   "metadata": {},
   "source": [
    "Модель \"логистическая регрессиия\" показала результат метрики `f1_score()` - 0.487. Проверим модель метрикой `roc_auc_score` и сравним данные. Для этого обучим модель и посчитаем метрику `roc_auc_score`, сохранив данные в `auc_roc`."
   ]
  },
  {
   "cell_type": "code",
   "execution_count": 22,
   "metadata": {},
   "outputs": [
    {
     "name": "stdout",
     "output_type": "stream",
     "text": [
      "0.7550164993640487\n"
     ]
    }
   ],
   "source": [
    "model_log = LogisticRegression(random_state=765, solver='liblinear', class_weight='balanced')\n",
    "model_log.fit(features_train, target_train)\n",
    "probabilities_valid = model_log.predict_proba(features_valid)\n",
    "probabilities_one_valid = probabilities_valid[:, 1]\n",
    "auc_roc = roc_auc_score(target_valid, probabilities_one_valid)\n",
    "print(auc_roc)"
   ]
  },
  {
   "cell_type": "markdown",
   "metadata": {},
   "source": [
    "###  Вывод\n",
    "\n",
    "Изучив обучающую модель \"логистическая регрессиия\", получили результат метрики `f1_score()` - 0.487, метрики `roc_auc_score` - 0.755."
   ]
  },
  {
   "cell_type": "markdown",
   "metadata": {},
   "source": [
    "Рассмотрим обучающую модель \"случайный лес\". Настроим гиперпараметр `n_estimators` случайного леса с помощью цикла `for`, который переберет данные от 1 до 100 и гиперпараметр `max_depth` с 1 до 15, добавим аргумент `class_weight='balanced'`. С помощью метрики `f1_score()`, увидим лучший результат на валидационной выборке. "
   ]
  },
  {
   "cell_type": "code",
   "execution_count": 23,
   "metadata": {},
   "outputs": [
    {
     "name": "stdout",
     "output_type": "stream",
     "text": [
      "F1 наилучшей модели на валидационной выборке: 0.6345475910693302 Наилучшее число деревьев на валидационной выборке: RandomForestClassifier(class_weight='balanced', max_depth=10, n_estimators=71,\n",
      "                       random_state=765)\n"
     ]
    }
   ],
   "source": [
    "best_model = None\n",
    "best_result = 0\n",
    "for est in range(1, 100, 10):\n",
    "    for depth in range(1, 16, 1): \n",
    "        model_est = RandomForestClassifier(random_state=765, n_estimators=est, max_depth=depth, class_weight='balanced') # обучим модель с заданным количеством деревьев\n",
    "        model_est.fit(features_train, target_train) # обучим модель на обучающей выборке\n",
    "        predicted_valid_est = model_est.predict(features_valid)\n",
    "        result = f1_score(target_valid, predicted_valid_est) # посчитаем качество модели на валидационной выборке\n",
    "        if result > best_result:\n",
    "            best_model = model_est # сохраним наилучшую модель\n",
    "            best_result = result\n",
    "print(\"F1 наилучшей модели на валидационной выборке:\", best_result, \"Наилучшее число деревьев на валидационной выборке:\", best_model)"
   ]
  },
  {
   "cell_type": "markdown",
   "metadata": {},
   "source": [
    "Модель \"случайный лес\" показала результат метрики `f1_score()` - 0.635 при глубине 10 и количеством деревьев 71. Проверим модель метрикой `roc_auc_score` и сравним данные. Для этого обучим модель с глубиной 10 и количеством деревьев 71, посчитаем метрику `roc_auc_score`, сохранив данные в `auc_roc`."
   ]
  },
  {
   "cell_type": "code",
   "execution_count": 24,
   "metadata": {},
   "outputs": [
    {
     "name": "stdout",
     "output_type": "stream",
     "text": [
      "0.8522028382738084\n"
     ]
    }
   ],
   "source": [
    "model_est = RandomForestClassifier(random_state=765, n_estimators=71, max_depth=10, class_weight='balanced')\n",
    "model_est.fit(features_train, target_train)\n",
    "probabilities_valid = model_est.predict_proba(features_valid)\n",
    "probabilities_one_valid = probabilities_valid[:, 1]\n",
    "auc_roc = roc_auc_score(target_valid, probabilities_one_valid)\n",
    "print(auc_roc)"
   ]
  },
  {
   "cell_type": "markdown",
   "metadata": {},
   "source": [
    "###  Вывод\n",
    "\n",
    "Изучив обучающую модель \"случайный лес\", нашли оптимальное количество глубины равное 10 и количеству деревьев равное 71. Получили результат метрики `f1_score()` - 0.635, метрики `roc_auc_score` - 0.852."
   ]
  },
  {
   "cell_type": "markdown",
   "metadata": {},
   "source": [
    "Рассмотрим обучающую модель \"решающее дерево\". Настроим гиперпараметр `max_depth` дерева решений с помощью цикла `for`, который переберет данные от 1 до 15, добавим аргумент `class_weight='balanced'`.  С помощью метрики `f1_score()`, увидим лучший результат на валидационной выборке. "
   ]
  },
  {
   "cell_type": "code",
   "execution_count": 25,
   "metadata": {},
   "outputs": [
    {
     "name": "stdout",
     "output_type": "stream",
     "text": [
      "F1 наилучшей модели на валидационной выборке: 0.5854545454545454 Наилучшая глубина на валидационной выборке: DecisionTreeClassifier(class_weight='balanced', max_depth=8, random_state=765)\n"
     ]
    }
   ],
   "source": [
    "best_model_depth = None\n",
    "best_result_depth = 0\n",
    "for depth in range(1, 16, 1):\n",
    "    model_tree = DecisionTreeClassifier(random_state=765, max_depth=depth, class_weight='balanced') # обучим модель с заданной глубиной от 1 до 15\n",
    "    model_tree.fit(features_train, target_train) # обучим модель на обучающей выборке\n",
    "    predicted_valid_tree = model_tree.predict(features_valid)\n",
    "    result_depth = f1_score(target_valid, predicted_valid_tree) # посчитаем качество модели на валидационной выборке\n",
    "    if result_depth > best_result_depth:\n",
    "        best_model_depth = model_tree # сохраним наилучшую модель\n",
    "        best_result_depth = result_depth \n",
    "print(\"F1 наилучшей модели на валидационной выборке:\", best_result_depth, \"Наилучшая глубина на валидационной выборке:\", best_model_depth) "
   ]
  },
  {
   "cell_type": "markdown",
   "metadata": {},
   "source": [
    "Модель \"решающее дерево\" показала результат метрики `f1_score()` - 0.585 при глубине 8. Проверим модель метрикой `roc_auc_score` и сравним данные. Для этого обучим модель с глубиной 8, посчитаем метрику `roc_auc_score`, сохранив данные в `auc_roc`."
   ]
  },
  {
   "cell_type": "code",
   "execution_count": 26,
   "metadata": {},
   "outputs": [
    {
     "name": "stdout",
     "output_type": "stream",
     "text": [
      "0.8151695403611732\n"
     ]
    }
   ],
   "source": [
    "model_tree = DecisionTreeClassifier(random_state=765, max_depth=8, class_weight='balanced') \n",
    "model_tree.fit(features_train, target_train)\n",
    "probabilities_valid = model_tree.predict_proba(features_valid)\n",
    "probabilities_one_valid = probabilities_valid[:, 1]\n",
    "auc_roc = roc_auc_score(target_valid, probabilities_one_valid)\n",
    "print(auc_roc)"
   ]
  },
  {
   "cell_type": "markdown",
   "metadata": {},
   "source": [
    "###  Вывод\n",
    "\n",
    "Изучив обучающую модель \"решающее дерево\", нашли оптимальное количество глубины равное 8. Получили результат метрики `f1_score()` - 0.585, метрики `roc_auc_score` - 0.815.\n",
    "\n",
    "Обучив модели с учетом дисбаланса классов, применив аргумент `class_weight='balanced'`, можно сделать вывод, что лучший результат метрик `f1_score()` и `roc_auc_score`показала модель \"случайный лес\" с  глубиной 10 и количеством деревьев 71, метрики `f1_score()` - 0.635, метрики `roc_auc_score` - 0.852."
   ]
  },
  {
   "cell_type": "markdown",
   "metadata": {},
   "source": [
    "Применим технику `upsampled()`, сделав редкие классы не такими редкими. Для этого разделим обучающую выборку на отрицательные и положительные объекты, скопируем несколько раз положительные объекты, с учетом полученных данных создадим новую обучающую выборку, перемешаем данные. Создадим функцию `upsample`, а с помощью `pd.concat()` объединим данные и перемешаем с помощью `shuffle()`.\n",
    "Начнем изучение с модели \"случайный лес\". Так же настроим гиперпараметр `n_estimators` случайного леса с помощью цикла `for`, который переберет данные от 1 до 100 и гиперпараметр `max_depth` с 1 до 15. С помощью метрики `f1_score()`, увидим лучший результат на валидационной выборке."
   ]
  },
  {
   "cell_type": "code",
   "execution_count": 27,
   "metadata": {},
   "outputs": [
    {
     "name": "stdout",
     "output_type": "stream",
     "text": [
      "F1 наилучшей модели на валидационной выборке: 0.6143024618991794 Наилучшее число деревьев на валидационной выборке: RandomForestClassifier(max_depth=15, n_estimators=61, random_state=765)\n"
     ]
    }
   ],
   "source": [
    "def upsample(features, target, repeat):\n",
    "    features_zeros = features[target == 0]\n",
    "    features_ones = features[target == 1]\n",
    "    target_zeros = target[target == 0]\n",
    "    target_ones = target[target == 1]\n",
    "\n",
    "    features_upsampled = pd.concat([features_zeros] + [features_ones] * repeat)\n",
    "    target_upsampled = pd.concat([target_zeros] + [target_ones] * repeat)\n",
    "    \n",
    "    features_upsampled, target_upsampled = shuffle(\n",
    "        features_upsampled, target_upsampled, random_state=12345)\n",
    "    \n",
    "    return features_upsampled, target_upsampled\n",
    "\n",
    "features_upsampled, target_upsampled = upsample(features_train, target_train, 10)\n",
    "best_model = None\n",
    "best_result = 0\n",
    "for est in range(1, 100, 10):\n",
    "    for depth in range(1, 16, 1): \n",
    "        model_est = RandomForestClassifier(random_state=765, n_estimators=est, max_depth=depth) # обучим модель с заданным количеством деревьев\n",
    "        model_est.fit(features_upsampled, target_upsampled) # обучим модель на обучающей выборке\n",
    "        predicted_valid_est = model_est.predict(features_valid)\n",
    "        result = f1_score(target_valid, predicted_valid_est) # посчитаем качество модели на валидационной выборке\n",
    "        if result > best_result:\n",
    "            best_model = model_est # сохраним наилучшую модель\n",
    "            best_result = result\n",
    "print(\"F1 наилучшей модели на валидационной выборке:\", best_result, \"Наилучшее число деревьев на валидационной выборке:\", best_model)"
   ]
  },
  {
   "cell_type": "markdown",
   "metadata": {},
   "source": [
    "Модель \"случайный лес\" показала результат метрики `f1_score()` - 0.614 при глубине 15 и количеством деревьев 61. Проверим модель метрикой `roc_auc_score` и сравним данные. Для этого обучим модель с глубиной 15 и количеством деревьев 61, посчитаем метрику `roc_auc_score`, сохранив данные в `auc_roc`."
   ]
  },
  {
   "cell_type": "code",
   "execution_count": 28,
   "metadata": {},
   "outputs": [
    {
     "name": "stdout",
     "output_type": "stream",
     "text": [
      "0.8396886712227214\n"
     ]
    }
   ],
   "source": [
    "model_est = RandomForestClassifier(random_state=765, n_estimators=61, max_depth=15)\n",
    "model_est.fit(features_upsampled, target_upsampled)\n",
    "probabilities_valid = model_est.predict_proba(features_valid)\n",
    "probabilities_one_valid = probabilities_valid[:, 1]\n",
    "auc_roc = roc_auc_score(target_valid, probabilities_one_valid)\n",
    "print(auc_roc)"
   ]
  },
  {
   "cell_type": "markdown",
   "metadata": {},
   "source": [
    "###  Вывод\n",
    "\n",
    "Изучив обучающую модель \"случайный лес\", нашли оптимальное количество глубины равное 15 и количеству деревьев равное 61. Получили результат метрики `f1_score()` - 0.614, метрики `roc_auc_score` - 0.840."
   ]
  },
  {
   "cell_type": "markdown",
   "metadata": {},
   "source": [
    "Рассмотрим обучающую модель \"решающее дерево\". Настроим гиперпараметр `max_depth` дерева решений с помощью цикла `for`, который переберет данные от 1 до 15.  С помощью метрики `f1_score()`, увидим лучший результат на валидационной выборке. "
   ]
  },
  {
   "cell_type": "code",
   "execution_count": 29,
   "metadata": {},
   "outputs": [
    {
     "name": "stdout",
     "output_type": "stream",
     "text": [
      "F1 наилучшей модели на валидационной выборке: 0.5220588235294117 Наилучшая глубина на валидационной выборке: DecisionTreeClassifier(max_depth=12, random_state=765)\n"
     ]
    }
   ],
   "source": [
    "best_model_depth = None\n",
    "best_result_depth = 0\n",
    "for depth in range(1, 16, 1):\n",
    "    model_tree = DecisionTreeClassifier(random_state=765, max_depth=depth) # обучим модель с заданной глубиной от 1 до 15\n",
    "    model_tree.fit(features_upsampled, target_upsampled) # обучим модель на обучающей выборке\n",
    "    predicted_valid_tree = model_tree.predict(features_valid)\n",
    "    result_depth = f1_score(target_valid, predicted_valid_tree) # посчитаем качество модели на валидационной выборке\n",
    "    if result_depth > best_result_depth:\n",
    "        best_model_depth = model_tree # сохраним наилучшую модель\n",
    "        best_result_depth = result_depth \n",
    "print(\"F1 наилучшей модели на валидационной выборке:\", best_result_depth, \"Наилучшая глубина на валидационной выборке:\", best_model_depth) "
   ]
  },
  {
   "cell_type": "markdown",
   "metadata": {},
   "source": [
    "Модель \"решающее дерево\" показала результат метрики `f1_score()` - 0.522 при глубине 12. Проверим модель метрикой `roc_auc_score` и сравним данные. Для этого обучим модель с глубиной 12, посчитаем метрику `roc_auc_score`, сохранив данные в `auc_roc`."
   ]
  },
  {
   "cell_type": "code",
   "execution_count": 30,
   "metadata": {},
   "outputs": [
    {
     "name": "stdout",
     "output_type": "stream",
     "text": [
      "0.7521668771766412\n"
     ]
    }
   ],
   "source": [
    "model_tree = DecisionTreeClassifier(random_state=765, max_depth=12) \n",
    "model_tree.fit(features_upsampled, target_upsampled)\n",
    "probabilities_valid = model_tree.predict_proba(features_valid)\n",
    "probabilities_one_valid = probabilities_valid[:, 1]\n",
    "auc_roc = roc_auc_score(target_valid, probabilities_one_valid)\n",
    "print(auc_roc)"
   ]
  },
  {
   "cell_type": "markdown",
   "metadata": {},
   "source": [
    "###  Вывод\n",
    "\n",
    "Изучив обучающую модель \"решающее дерево\", нашли оптимальное количество глубины равное 12. Получили результат метрики `f1_score()` - 0.522, метрики `roc_auc_score` - 0.752."
   ]
  },
  {
   "cell_type": "markdown",
   "metadata": {},
   "source": [
    "Рассмотрим модели \"логистическая регрессиия\". Настроим гиперпараметр `solver='liblinear'` и `random_state=765` и добавим аргумент. Проверим качество модели метрикой `f1_score()`."
   ]
  },
  {
   "cell_type": "code",
   "execution_count": 31,
   "metadata": {},
   "outputs": [
    {
     "name": "stdout",
     "output_type": "stream",
     "text": [
      "F1: 0.4197530864197531\n"
     ]
    }
   ],
   "source": [
    "model_log = LogisticRegression(random_state=765, solver='liblinear')\n",
    "model_log.fit(features_upsampled, target_upsampled)\n",
    "predicted_valid_log = model_log.predict(features_valid)\n",
    "print(\"F1:\", f1_score(target_valid, predicted_valid_log))"
   ]
  },
  {
   "cell_type": "markdown",
   "metadata": {},
   "source": [
    "Модель \"логистическая регрессиия\" показала результат метрики `f1_score()` - 0.420. Проверим модель метрикой `roc_auc_score` и сравним данные. Для этого обучим модель и посчитаем метрику `roc_auc_score`, сохранив данные в `auc_roc`."
   ]
  },
  {
   "cell_type": "code",
   "execution_count": 32,
   "metadata": {},
   "outputs": [
    {
     "name": "stdout",
     "output_type": "stream",
     "text": [
      "0.7560791203090297\n"
     ]
    }
   ],
   "source": [
    "model_log = LogisticRegression(random_state=765, solver='liblinear')\n",
    "model_log.fit(features_upsampled, target_upsampled)\n",
    "probabilities_valid = model_log.predict_proba(features_valid)\n",
    "probabilities_one_valid = probabilities_valid[:, 1]\n",
    "auc_roc = roc_auc_score(target_valid, probabilities_one_valid)\n",
    "print(auc_roc)"
   ]
  },
  {
   "cell_type": "markdown",
   "metadata": {},
   "source": [
    "###  Вывод\n",
    "\n",
    "Изучив обучающую модель \"логистическая регрессиия\", получили результат метрики `f1_score()` - 0.420, метрики `roc_auc_score` - 0.756.\n",
    "\n",
    "Обучив модели с учетом дисбаланса классов, применив технику `upsampled()`, можно сделать вывод, что лучший результат метрик `f1_score()` и `roc_auc_score`показала модель \"случайный лес\" с глубиной 15 и количеством деревьев 61: `f1_score()` - 0.614, метрики `roc_auc_score` - 0.840."
   ]
  },
  {
   "cell_type": "markdown",
   "metadata": {},
   "source": [
    "Применим технику `downsampled()`, сделав частые классы не такими частыми. Для этого разделим обучающую выборку на отрицательные и положительные объекты, случайным образом отбросим часть отрицательных объектов, с учетом полученных данных создадим новую обучающую выборку, перемешаем данные. Создадим функцию `downsample`, для выброса из таблицы случайных элементов применим функцию `sample()`, на вход она принимает аргумент `frac()`, возвращает случайные элементы, а с помощью `pd.concat()` объединим данные и перемешаем с помощью `shuffle()`.\n",
    "Начнем изучение с модели \"случайный лес\". Так же настроим гиперпараметр `n_estimators` случайного леса с помощью цикла `for`, который переберет данные от 1 до 100 и гиперпараметр `max_depth` с 1 до 15. С помощью метрики `f1_score()`, увидим лучший результат на валидационной выборке."
   ]
  },
  {
   "cell_type": "code",
   "execution_count": 33,
   "metadata": {},
   "outputs": [
    {
     "name": "stdout",
     "output_type": "stream",
     "text": [
      "F1 наилучшей модели на валидационной выборке: 0.5003158559696779 Наилучшее число деревьев на валидационной выборке: RandomForestClassifier(max_depth=10, n_estimators=61, random_state=765)\n"
     ]
    }
   ],
   "source": [
    "def downsample(features, target, fraction):\n",
    "    features_zeros = features[target == 0]\n",
    "    features_ones = features[target == 1]\n",
    "    target_zeros = target[target == 0]\n",
    "    target_ones = target[target == 1]\n",
    "\n",
    "    features_downsampled = pd.concat(\n",
    "        [features_zeros.sample(frac=fraction, random_state=12345)] + [features_ones])\n",
    "    target_downsampled = pd.concat(\n",
    "        [target_zeros.sample(frac=fraction, random_state=12345)] + [target_ones])\n",
    "    \n",
    "    features_downsampled, target_downsampled = shuffle(\n",
    "        features_downsampled, target_downsampled, random_state=12345)\n",
    "    \n",
    "    return features_downsampled, target_downsampled\n",
    "\n",
    "features_downsampled, target_downsampled = downsample(features_train, target_train, 0.1)\n",
    "best_model = None\n",
    "best_result = 0\n",
    "for est in range(1, 100, 10):\n",
    "    for depth in range(1, 16, 1): \n",
    "        model_est = RandomForestClassifier(random_state=765, n_estimators=est, max_depth=depth) # обучим модель с заданным количеством деревьев\n",
    "        model_est.fit(features_downsampled, target_downsampled) # обучим модель на обучающей выборке\n",
    "        predicted_valid_est = model_est.predict(features_valid)\n",
    "        result = f1_score(target_valid, predicted_valid_est) # посчитаем качество модели на валидационной выборке\n",
    "        if result > best_result:\n",
    "            best_model = model_est # сохраним наилучшую модель\n",
    "            best_result = result\n",
    "print(\"F1 наилучшей модели на валидационной выборке:\", best_result, \"Наилучшее число деревьев на валидационной выборке:\", best_model)"
   ]
  },
  {
   "cell_type": "markdown",
   "metadata": {},
   "source": [
    "Модель \"случайный лес\" показала результат метрики `f1_score()` - 0.500 при глубине 10 и количеством деревьев 61. Проверим модель метрикой `roc_auc_score` и сравним данные. Для этого обучим модель с глубиной 10 и количеством деревьев 61, посчитаем метрику `roc_auc_score`, сохранив данные в `auc_roc`."
   ]
  },
  {
   "cell_type": "code",
   "execution_count": 34,
   "metadata": {},
   "outputs": [
    {
     "name": "stdout",
     "output_type": "stream",
     "text": [
      "0.8368987385613497\n"
     ]
    }
   ],
   "source": [
    "model_est = RandomForestClassifier(random_state=765, n_estimators=61, max_depth=10)\n",
    "model_est.fit(features_downsampled, target_downsampled)\n",
    "probabilities_valid = model_est.predict_proba(features_valid)\n",
    "probabilities_one_valid = probabilities_valid[:, 1]\n",
    "auc_roc = roc_auc_score(target_valid, probabilities_one_valid)\n",
    "print(auc_roc)"
   ]
  },
  {
   "cell_type": "markdown",
   "metadata": {},
   "source": [
    "###  Вывод\n",
    "\n",
    "Изучив обучающую модель \"случайный лес\", нашли оптимальное количество глубины равное 10 и количеству деревьев равное 61. Получили результат метрики `f1_score()` - 0.500, метрики `roc_auc_score` - 0.837."
   ]
  },
  {
   "cell_type": "markdown",
   "metadata": {},
   "source": [
    "Рассмотрим обучающую модель \"решающее дерево\". Настроим гиперпараметр `max_depth` дерева решений с помощью цикла `for`, который переберет данные от 1 до 15.  С помощью метрики `f1_score()`, увидим лучший результат на валидационной выборке. "
   ]
  },
  {
   "cell_type": "code",
   "execution_count": 35,
   "metadata": {},
   "outputs": [
    {
     "name": "stdout",
     "output_type": "stream",
     "text": [
      "F1 наилучшей модели на валидационной выборке: 0.5111731843575419 Наилучшая глубина на валидационной выборке: DecisionTreeClassifier(max_depth=7, random_state=765)\n"
     ]
    }
   ],
   "source": [
    "best_model_depth = None\n",
    "best_result_depth = 0\n",
    "for depth in range(1, 16, 1):\n",
    "    model_tree = DecisionTreeClassifier(random_state=765, max_depth=depth) # обучим модель с заданной глубиной от 1 до 5\n",
    "    model_tree.fit(features_downsampled, target_downsampled) # обучим модель на обучающей выборке\n",
    "    predicted_valid_tree = model_tree.predict(features_valid)\n",
    "    result_depth = f1_score(target_valid, predicted_valid_tree) # посчитаем качество модели на валидационной выборке\n",
    "    if result_depth > best_result_depth:\n",
    "        best_model_depth = model_tree # сохраним наилучшую модель\n",
    "        best_result_depth = result_depth \n",
    "print(\"F1 наилучшей модели на валидационной выборке:\", best_result_depth, \"Наилучшая глубина на валидационной выборке:\", best_model_depth) "
   ]
  },
  {
   "cell_type": "markdown",
   "metadata": {},
   "source": [
    "Модель \"решающее дерево\" показала результат метрики `f1_score()` - 0.511 при глубине 7. Проверим модель метрикой `roc_auc_score` и сравним данные. Для этого обучим модель с глубиной 7, посчитаем метрику `roc_auc_score`, сохранив данные в `auc_roc`."
   ]
  },
  {
   "cell_type": "code",
   "execution_count": 36,
   "metadata": {},
   "outputs": [
    {
     "name": "stdout",
     "output_type": "stream",
     "text": [
      "0.802110061590748\n"
     ]
    }
   ],
   "source": [
    "model_tree = DecisionTreeClassifier(random_state=765, max_depth=7) \n",
    "model_tree.fit(features_downsampled, target_downsampled)\n",
    "probabilities_valid = model_tree.predict_proba(features_valid)\n",
    "probabilities_one_valid = probabilities_valid[:, 1]\n",
    "auc_roc = roc_auc_score(target_valid, probabilities_one_valid)\n",
    "print(auc_roc)"
   ]
  },
  {
   "cell_type": "markdown",
   "metadata": {},
   "source": [
    "###  Вывод\n",
    "\n",
    "Изучив обучающую модель \"решающее дерево\", нашли оптимальное количество глубины равное 7. Получили результат метрики `f1_score()` - 0.511, метрики `roc_auc_score` - 0.802"
   ]
  },
  {
   "cell_type": "markdown",
   "metadata": {},
   "source": [
    "Рассмотрим модели \"логистическая регрессиия\". Настроим гиперпараметр `solver`='liblinear'и `random_state=765` и добавим аргумент. Проверим качество модели метрикой `f1_score()`."
   ]
  },
  {
   "cell_type": "code",
   "execution_count": 37,
   "metadata": {},
   "outputs": [
    {
     "name": "stdout",
     "output_type": "stream",
     "text": [
      "F1: 0.4227296866702072\n"
     ]
    }
   ],
   "source": [
    "model = LogisticRegression(random_state=765, solver='liblinear')\n",
    "model.fit(features_downsampled, target_downsampled)\n",
    "predicted_valid = model.predict(features_valid)\n",
    "print(\"F1:\", f1_score(target_valid, predicted_valid))"
   ]
  },
  {
   "cell_type": "markdown",
   "metadata": {},
   "source": [
    "Модель \"логистическая регрессиия\" показала результат метрики `f1_score()` - 0.423. Проверим модель метрикой `roc_auc_score` и сравним данные. Для этого обучим модель и посчитаем метрику `roc_auc_score`, сохранив данные в `auc_roc`."
   ]
  },
  {
   "cell_type": "code",
   "execution_count": 38,
   "metadata": {},
   "outputs": [
    {
     "name": "stdout",
     "output_type": "stream",
     "text": [
      "0.750894237528942\n"
     ]
    }
   ],
   "source": [
    "model_log = LogisticRegression(random_state=765, solver='liblinear')\n",
    "model_log.fit(features_downsampled, target_downsampled)\n",
    "probabilities_valid = model_log.predict_proba(features_valid)\n",
    "probabilities_one_valid = probabilities_valid[:, 1]\n",
    "auc_roc = roc_auc_score(target_valid, probabilities_one_valid)\n",
    "print(auc_roc)"
   ]
  },
  {
   "cell_type": "markdown",
   "metadata": {},
   "source": [
    "###  Вывод\n",
    "\n",
    "Изучив обучающую модель \"логистическая регрессиия\", получили результат метрики `f1_score()` - 0.423, метрики `roc_auc_score` - 0.751.\n",
    "\n",
    "Обучив модели с учетом дисбаланса классов, применив технику `downsampled()`, можно сделать вывод, что лучший результат метрик `f1_score()` и `roc_auc_score` показала модель \"решающее дерево\" с глубиной 7: `f1_score()` - 0.511, метрики `roc_auc_score` - 0.802."
   ]
  },
  {
   "cell_type": "markdown",
   "metadata": {},
   "source": [
    "###  Общий вывод\n",
    "\n",
    "Обучив модели \"случайный лес\", \"решающее дерево\", \"логистическая регрессиия\" без учета дисбаланса классов, получили следующие результаты:\n",
    "- обучающая модель \"решающее дерево\", при глубине равном 9, результат метрики `f1_score()` - 0.569, метрики `roc_auc_score` - 0.797.\n",
    "- обучающая модель \"логистическая регрессия\", результат метрики `f1_score()` - 0.308, метрики `roc_auc_score` - 0.751.\n",
    "- обучающая модель \"случайный лес\", при глубине равной 14 и количеству деревьев равное 37, результат метрики `f1_score()` - 0.600, метрики `roc_auc_score` - 0.812.\n",
    " \n",
    "Задача исследования найти модель с результатом метрики `f1_score()` не менее 0.59. Ни одна модель не показала данный результат.\n",
    "\n",
    "Обучив модели \"случайный лес\", \"решающее дерево\", \"логистическая регрессиия\" с учетом дисбаланса классов, применив аргумент `class_weight='balanced'`, получили следующие результаты:\n",
    "- обучающая модель \"логистическая регрессиия\", результат метрики `f1_score()` - 0.487, метрики `roc_auc_score` - 0.755.\n",
    "- обучающая модель \"случайный лес\", при глубине равной 10 и количеству деревьев равное 71, результат метрики `f1_score()` - 0.635, метрики `roc_auc_score` - 0.852.\n",
    "- обучающую модель \"решающее дерево\", при глубине равной 8, результат метрики `f1_score()` - 0.585, метрики `roc_auc_score` - 0.815.\n",
    "\n",
    "Задача исследования найти модель с результатом метрики `f1_score()` не менее 0.59. Модель \"случайный лес\" при глубине равной 10 и количеству деревьев равное 71, результат метрики `f1_score()` - 0.635, метрики `roc_auc_score` - 0.852, Метрика `roc_auc_score` должна стремиться к 1, ее результат равный 0.852 достаточно хороший.\n",
    "\n",
    "Обучив модели \"случайный лес\", \"решающее дерево\", \"логистическая регрессиия\" с учетом дисбаланса классов, применив технику `upsampled()`, получили следующие результаты:\n",
    "- обучающая модель \"случайный лес\", при глубине равной 15 и количеству деревьев равном 61, результат метрики `f1_score()` - 0.614, метрики `roc_auc_score` - 0.840.\n",
    "- обучающая модель \"решающее дерево\", при глубине равной 12, результат метрики `f1_score()` - 0.522, метрики `roc_auc_score` - 0.752.\n",
    "- обучающая модель \"логистическая регрессиия\", результат метрики `f1_score()` - 0.420, метрики `roc_auc_score` - 0.756.\n",
    "\n",
    "Задача исследования найти модель с результатом метрики `f1_score()` не менее 0.59. Модель \"случайный лес\" при глубине равной 15 и количеству деревьев равное 61, результат метрики `f1_score()` - 0.614, метрики `roc_auc_score` - 0.840, Метрика `roc_auc_score` должна стремиться к 1, ее результат равный 0.840 достаточно хороший.\n",
    "\n",
    "Обучив модели \"случайный лес\", \"решающее дерево\", \"логистическая регрессиия\" с учетом дисбаланса классов, применив технику `downsampled()`, получили следующие результаты:\n",
    "- обучающая модель \"случайный лес\", при глубине равной 10 и количеству деревьев равным 61, результат метрики `f1_score()` - 0.500, метрики `roc_auc_score` - 0.837.\n",
    "- обучающая модель \"решающее дерево\", при глубине равной 7, результат метрики `f1_score()` - 0.511, метрики `roc_auc_score` - 0.802.\n",
    "- обучающая модель \"логистическая регрессиия\", результат метрики `f1_score()` - 0.423, метрики `roc_auc_score` - 0.751.\n",
    "\n",
    "Задача исследования найти модель с результатом метрики `f1_score()` не менее 0.59. Ни одна модель не показала данный результат.\n",
    " \n",
    "Можно сделать вывод, что самая удачная модель получилась с учетом дисбаланса классов с аргументом `class_weight='balanced'`, модель \"случайный лес\" при глубине равной 10 и количеству деревьев равное 71, результат метрики `f1_score()` - 0.635, метрики `roc_auc_score` - 0.852."
   ]
  },
  {
   "cell_type": "markdown",
   "metadata": {},
   "source": [
    "## Тестирование модели"
   ]
  },
  {
   "cell_type": "markdown",
   "metadata": {},
   "source": [
    "Наилучшая модель на наших данных \"случайный лес\" при глубине равной 10 и количеству деревьев равное 71, с учетом дисбаланса классов с аргументом `class_weight='balanced'`. Проверим ее на тестовой выборке и посчитаем метрики `f1_score()` и `roc_auc_score`. "
   ]
  },
  {
   "cell_type": "code",
   "execution_count": 39,
   "metadata": {},
   "outputs": [
    {
     "name": "stdout",
     "output_type": "stream",
     "text": [
      "F1: 0.6186335403726707\n",
      "0.8540464137385663\n"
     ]
    }
   ],
   "source": [
    "model_est = RandomForestClassifier(max_depth=10, n_estimators=71, random_state=765, class_weight='balanced') # обучим модель \n",
    "model_est.fit(features_train, target_train) # обучим модель на обучающей выборке\n",
    "predictions_test = model_est.predict(features_test) # предскажем модель на тестовой выборке\n",
    "print(\"F1:\", f1_score(target_test, predictions_test)) # проверим качество модели\n",
    "probabilities_valid = model_est.predict_proba(features_test)\n",
    "probabilities_one_valid = probabilities_valid[:, 1]\n",
    "auc_roc = roc_auc_score(target_test, probabilities_one_valid)\n",
    "print(auc_roc)"
   ]
  },
  {
   "cell_type": "markdown",
   "metadata": {},
   "source": [
    "Соединим две выборки обучающую и валидационную методом `pd.concat()`. Обучим данную модель на общей выборке. Проверим ее на тестовой выборке и посчитаем метрики `f1_score()` и `roc_auc_score`, посмотрим результат."
   ]
  },
  {
   "cell_type": "code",
   "execution_count": 40,
   "metadata": {},
   "outputs": [
    {
     "name": "stdout",
     "output_type": "stream",
     "text": [
      "F1: 0.6113116726835138\n",
      "0.85748043263034\n"
     ]
    }
   ],
   "source": [
    "features_all = pd.concat([features_valid, features_train]) # объединим две выборки \n",
    "target_all = pd.concat([target_valid, target_train]) # объединим две выборки\n",
    "model_est = RandomForestClassifier(max_depth=10, n_estimators=71, random_state=765, class_weight='balanced') # обучим модель с глубиной 3\n",
    "model_est.fit(features_all, target_all) # обучим модель на общей выборке\n",
    "predictions_all = model_est.predict(features_all) # предскажем модель на общей выборке\n",
    "predictions_test = model_est.predict(features_test) # предскажем модель на тестовой выборке\n",
    "print(\"F1:\", f1_score(target_test, predictions_test))\n",
    "probabilities_valid = model_est.predict_proba(features_test)\n",
    "probabilities_one_valid = probabilities_valid[:, 1]\n",
    "auc_roc = roc_auc_score(target_test, probabilities_one_valid)\n",
    "print(auc_roc)"
   ]
  },
  {
   "cell_type": "markdown",
   "metadata": {},
   "source": [
    "###  Вывод о результате тестирования\n",
    "\n",
    "Разделили данные на 3 выборки: обучающую, валидационную и тестовую. Провели исследование данных на моделях: \"решающее дерево\", \"случайный лес\", \"логистическая регрессия\" с разными гиперпараметрами, а также с учетом дисбаланса и без учета дисбаланса классов. Результат исследования показал лучший результат дала модель \"случайный лес\" при глубине равной 10 и количеству деревьев равное 71, с учетом дисбаланса классов с аргументом `class_weight='balanced'`. Проверили модель на тестовой выборке, результат метрик: `f1_score()` - 0.619, метрики `roc_auc_score` - 0.854. Объединили две выборки обучающую и валидационную и проверили модель на тестовой выборке, получили результат метрик: `f1_score()` - 0.611, метрики `roc_auc_score` - 0.858.\n",
    "\n",
    "Задачу добиться результата метрики `f1_score()` 0.59 выполнили. Показатель метрики `roc_auc_score` - 0.854 достаточно хороший, т.к. данная метрика стремится к единице и показывает как сильно наша модель отличается от случайной, с показателем 0.5. Чем ближе ее показатель к единице, тем выше качество модели."
   ]
  },
  {
   "cell_type": "markdown",
   "metadata": {},
   "source": [
    "## Чек-лист готовности проекта"
   ]
  },
  {
   "cell_type": "markdown",
   "metadata": {},
   "source": [
    "Поставьте 'x' в выполненных пунктах. Далее нажмите Shift+Enter."
   ]
  },
  {
   "cell_type": "markdown",
   "metadata": {},
   "source": [
    "- [x]  Jupyter Notebook открыт\n",
    "- [x]  Весь код выполняется без ошибок\n",
    "- [x]  Ячейки с кодом расположены в порядке исполнения\n",
    "- [x]  Выполнен шаг 1: данные подготовлены\n",
    "- [x]  Выполнен шаг 2: задача исследована\n",
    "    - [x]  Исследован баланс классов\n",
    "    - [x]  Изучены модели без учёта дисбаланса\n",
    "    - [x]  Написаны выводы по результатам исследования\n",
    "- [x]  Выполнен шаг 3: учтён дисбаланс\n",
    "    - [x]  Применено несколько способов борьбы с дисбалансом\n",
    "    - [x]  Написаны выводы по результатам исследования\n",
    "- [x]  Выполнен шаг 4: проведено тестирование\n",
    "- [x]  Удалось достичь *F1*-меры не менее 0.59\n",
    "- [x]  Исследована метрика *AUC-ROC*"
   ]
  }
 ],
 "metadata": {
  "ExecuteTimeLog": [
   {
    "duration": 1174,
    "start_time": "2022-08-23T07:27:06.964Z"
   },
   {
    "duration": 162,
    "start_time": "2022-08-23T07:27:42.728Z"
   },
   {
    "duration": 24,
    "start_time": "2022-08-23T07:27:58.049Z"
   },
   {
    "duration": 15,
    "start_time": "2022-08-23T07:28:46.011Z"
   },
   {
    "duration": 7,
    "start_time": "2022-08-23T07:32:10.691Z"
   },
   {
    "duration": 5,
    "start_time": "2022-08-23T07:35:36.997Z"
   },
   {
    "duration": 7,
    "start_time": "2022-08-23T07:41:00.980Z"
   },
   {
    "duration": 4,
    "start_time": "2022-08-23T07:54:05.078Z"
   },
   {
    "duration": 15,
    "start_time": "2022-08-23T07:54:27.841Z"
   },
   {
    "duration": 7,
    "start_time": "2022-08-23T07:54:50.698Z"
   },
   {
    "duration": 14,
    "start_time": "2022-08-23T07:55:09.710Z"
   },
   {
    "duration": 13,
    "start_time": "2022-08-23T07:56:04.209Z"
   },
   {
    "duration": 5,
    "start_time": "2022-08-23T07:57:18.056Z"
   },
   {
    "duration": 14,
    "start_time": "2022-08-23T07:59:46.562Z"
   },
   {
    "duration": 21,
    "start_time": "2022-08-23T08:00:12.258Z"
   },
   {
    "duration": 21,
    "start_time": "2022-08-23T08:00:30.055Z"
   },
   {
    "duration": 20,
    "start_time": "2022-08-23T08:01:07.446Z"
   },
   {
    "duration": 4,
    "start_time": "2022-08-23T08:02:34.364Z"
   },
   {
    "duration": 19,
    "start_time": "2022-08-23T08:07:19.557Z"
   },
   {
    "duration": 4,
    "start_time": "2022-08-23T08:13:39.492Z"
   },
   {
    "duration": 7,
    "start_time": "2022-08-23T08:13:40.367Z"
   },
   {
    "duration": 9,
    "start_time": "2022-08-23T08:15:43.681Z"
   },
   {
    "duration": 11,
    "start_time": "2022-08-23T08:16:15.796Z"
   },
   {
    "duration": 13,
    "start_time": "2022-08-23T08:16:33.688Z"
   },
   {
    "duration": 12,
    "start_time": "2022-08-23T08:16:53.564Z"
   },
   {
    "duration": 8,
    "start_time": "2022-08-23T08:18:18.286Z"
   },
   {
    "duration": 13,
    "start_time": "2022-08-23T08:18:19.536Z"
   },
   {
    "duration": 12,
    "start_time": "2022-08-23T08:18:21.095Z"
   },
   {
    "duration": 11,
    "start_time": "2022-08-23T08:18:23.205Z"
   },
   {
    "duration": 4,
    "start_time": "2022-08-23T08:18:53.124Z"
   },
   {
    "duration": 3,
    "start_time": "2022-08-23T08:25:45.220Z"
   },
   {
    "duration": 3,
    "start_time": "2022-08-23T08:26:01.793Z"
   },
   {
    "duration": 11,
    "start_time": "2022-08-23T08:26:16.864Z"
   },
   {
    "duration": 29,
    "start_time": "2022-08-23T08:26:57.879Z"
   },
   {
    "duration": 40,
    "start_time": "2022-08-23T08:27:29.449Z"
   },
   {
    "duration": 37,
    "start_time": "2022-08-23T08:28:19.902Z"
   },
   {
    "duration": 37,
    "start_time": "2022-08-23T08:29:25.026Z"
   },
   {
    "duration": 40,
    "start_time": "2022-08-23T08:29:33.834Z"
   },
   {
    "duration": 5,
    "start_time": "2022-08-23T08:31:38.961Z"
   },
   {
    "duration": 6,
    "start_time": "2022-08-23T08:32:14.938Z"
   },
   {
    "duration": 4,
    "start_time": "2022-08-23T08:36:45.094Z"
   },
   {
    "duration": 417,
    "start_time": "2022-08-23T08:38:10.626Z"
   },
   {
    "duration": 216,
    "start_time": "2022-08-23T08:38:30.252Z"
   },
   {
    "duration": 103,
    "start_time": "2022-08-23T08:38:40.872Z"
   },
   {
    "duration": 17,
    "start_time": "2022-08-23T08:42:24.650Z"
   },
   {
    "duration": 19,
    "start_time": "2022-08-23T08:43:57.811Z"
   },
   {
    "duration": 305,
    "start_time": "2022-08-23T08:46:19.049Z"
   },
   {
    "duration": 27,
    "start_time": "2022-08-23T08:47:43.457Z"
   },
   {
    "duration": 24,
    "start_time": "2022-08-23T08:47:54.269Z"
   },
   {
    "duration": 34,
    "start_time": "2022-08-23T08:48:00.046Z"
   },
   {
    "duration": 25,
    "start_time": "2022-08-23T08:48:05.240Z"
   },
   {
    "duration": 19,
    "start_time": "2022-08-23T08:48:10.051Z"
   },
   {
    "duration": 17,
    "start_time": "2022-08-23T08:48:14.196Z"
   },
   {
    "duration": 17,
    "start_time": "2022-08-23T08:48:19.146Z"
   },
   {
    "duration": 42,
    "start_time": "2022-08-23T08:48:24.583Z"
   },
   {
    "duration": 31289,
    "start_time": "2022-08-23T08:51:00.923Z"
   },
   {
    "duration": 15,
    "start_time": "2022-08-23T08:57:16.306Z"
   },
   {
    "duration": 73,
    "start_time": "2022-08-23T08:58:05.921Z"
   },
   {
    "duration": 79,
    "start_time": "2022-08-23T08:59:08.102Z"
   },
   {
    "duration": 5,
    "start_time": "2022-08-23T08:59:49.601Z"
   },
   {
    "duration": 46,
    "start_time": "2022-08-23T08:59:56.387Z"
   },
   {
    "duration": 25,
    "start_time": "2022-08-23T09:00:46.912Z"
   },
   {
    "duration": 31,
    "start_time": "2022-08-23T09:07:09.650Z"
   },
   {
    "duration": 8,
    "start_time": "2022-08-23T09:07:19.299Z"
   },
   {
    "duration": 1137,
    "start_time": "2022-08-23T09:07:48.773Z"
   },
   {
    "duration": 42,
    "start_time": "2022-08-23T09:07:49.912Z"
   },
   {
    "duration": 22,
    "start_time": "2022-08-23T09:07:49.956Z"
   },
   {
    "duration": 14,
    "start_time": "2022-08-23T09:07:49.980Z"
   },
   {
    "duration": 7,
    "start_time": "2022-08-23T09:07:49.996Z"
   },
   {
    "duration": 9,
    "start_time": "2022-08-23T09:07:50.004Z"
   },
   {
    "duration": 11,
    "start_time": "2022-08-23T09:07:50.014Z"
   },
   {
    "duration": 49,
    "start_time": "2022-08-23T09:07:50.027Z"
   },
   {
    "duration": 19,
    "start_time": "2022-08-23T09:07:50.078Z"
   },
   {
    "duration": 7,
    "start_time": "2022-08-23T09:07:50.101Z"
   },
   {
    "duration": 29,
    "start_time": "2022-08-23T09:07:50.109Z"
   },
   {
    "duration": 3,
    "start_time": "2022-08-23T09:07:50.168Z"
   },
   {
    "duration": 9,
    "start_time": "2022-08-23T09:07:50.173Z"
   },
   {
    "duration": 32,
    "start_time": "2022-08-23T09:07:50.183Z"
   },
   {
    "duration": 9,
    "start_time": "2022-08-23T09:07:50.217Z"
   },
   {
    "duration": 4,
    "start_time": "2022-08-23T09:07:50.228Z"
   },
   {
    "duration": 36,
    "start_time": "2022-08-23T09:07:50.233Z"
   },
   {
    "duration": 5,
    "start_time": "2022-08-23T09:07:50.271Z"
   },
   {
    "duration": 92,
    "start_time": "2022-08-23T09:07:50.278Z"
   },
   {
    "duration": 562,
    "start_time": "2022-08-23T09:07:50.372Z"
   },
   {
    "duration": 41901,
    "start_time": "2022-08-23T09:07:50.936Z"
   },
   {
    "duration": 132,
    "start_time": "2022-08-23T09:08:32.839Z"
   },
   {
    "duration": 130,
    "start_time": "2022-08-23T09:08:32.973Z"
   },
   {
    "duration": 116,
    "start_time": "2022-08-23T09:08:33.167Z"
   },
   {
    "duration": 182,
    "start_time": "2022-08-23T09:10:21.935Z"
   },
   {
    "duration": 327,
    "start_time": "2022-08-23T09:10:52.341Z"
   },
   {
    "duration": 115,
    "start_time": "2022-08-23T09:11:12.644Z"
   },
   {
    "duration": 452314,
    "start_time": "2022-08-23T09:12:54.901Z"
   },
   {
    "duration": 311,
    "start_time": "2022-08-23T09:20:53.367Z"
   },
   {
    "duration": 76,
    "start_time": "2022-08-23T09:21:03.737Z"
   },
   {
    "duration": 357,
    "start_time": "2022-08-23T09:21:11.570Z"
   },
   {
    "duration": 188,
    "start_time": "2022-08-23T09:22:12.593Z"
   },
   {
    "duration": 514,
    "start_time": "2022-08-23T09:22:19.648Z"
   },
   {
    "duration": 883,
    "start_time": "2022-08-23T09:22:25.889Z"
   },
   {
    "duration": 185,
    "start_time": "2022-08-23T09:22:49.984Z"
   },
   {
    "duration": 163,
    "start_time": "2022-08-23T09:22:58.353Z"
   },
   {
    "duration": 183,
    "start_time": "2022-08-23T09:23:12.180Z"
   },
   {
    "duration": 168,
    "start_time": "2022-08-23T09:23:17.188Z"
   },
   {
    "duration": 169,
    "start_time": "2022-08-23T09:23:23.126Z"
   },
   {
    "duration": 165,
    "start_time": "2022-08-23T09:23:30.827Z"
   },
   {
    "duration": 151,
    "start_time": "2022-08-23T09:23:37.591Z"
   },
   {
    "duration": 167,
    "start_time": "2022-08-23T09:23:46.077Z"
   },
   {
    "duration": 307,
    "start_time": "2022-08-23T09:24:51.160Z"
   },
   {
    "duration": 1014,
    "start_time": "2022-08-23T09:24:56.079Z"
   },
   {
    "duration": 29633,
    "start_time": "2022-08-23T09:27:00.945Z"
   },
   {
    "duration": 54565,
    "start_time": "2022-08-23T09:29:35.504Z"
   },
   {
    "duration": 79143,
    "start_time": "2022-08-23T09:31:10.945Z"
   },
   {
    "duration": 78545,
    "start_time": "2022-08-23T09:33:23.087Z"
   },
   {
    "duration": 42684,
    "start_time": "2022-08-23T09:35:10.036Z"
   },
   {
    "duration": 62,
    "start_time": "2022-08-23T09:37:12.123Z"
   },
   {
    "duration": 221,
    "start_time": "2022-08-23T09:37:38.153Z"
   },
   {
    "duration": 21,
    "start_time": "2022-08-23T09:38:34.133Z"
   },
   {
    "duration": 19569,
    "start_time": "2022-08-23T09:38:37.952Z"
   },
   {
    "duration": 486,
    "start_time": "2022-08-23T09:40:01.777Z"
   },
   {
    "duration": 818,
    "start_time": "2022-08-23T09:40:59.122Z"
   },
   {
    "duration": 211,
    "start_time": "2022-08-23T09:42:04.367Z"
   },
   {
    "duration": 187,
    "start_time": "2022-08-23T09:42:14.890Z"
   },
   {
    "duration": 737,
    "start_time": "2022-08-23T09:42:28.628Z"
   },
   {
    "duration": 7,
    "start_time": "2022-08-23T09:43:26.651Z"
   },
   {
    "duration": 142,
    "start_time": "2022-08-23T09:45:23.831Z"
   },
   {
    "duration": 5,
    "start_time": "2022-08-23T09:45:44.532Z"
   },
   {
    "duration": 5,
    "start_time": "2022-08-23T09:45:58.866Z"
   },
   {
    "duration": 49,
    "start_time": "2022-08-23T09:46:05.769Z"
   },
   {
    "duration": 9,
    "start_time": "2022-08-23T09:47:24.590Z"
   },
   {
    "duration": 10,
    "start_time": "2022-08-23T09:47:36.026Z"
   },
   {
    "duration": 8,
    "start_time": "2022-08-23T09:47:52.123Z"
   },
   {
    "duration": 1367,
    "start_time": "2022-08-24T07:39:52.926Z"
   },
   {
    "duration": 173,
    "start_time": "2022-08-24T07:39:54.296Z"
   },
   {
    "duration": 37,
    "start_time": "2022-08-24T07:39:54.471Z"
   },
   {
    "duration": 19,
    "start_time": "2022-08-24T07:39:54.510Z"
   },
   {
    "duration": 8,
    "start_time": "2022-08-24T07:39:54.533Z"
   },
   {
    "duration": 24,
    "start_time": "2022-08-24T07:39:54.544Z"
   },
   {
    "duration": 27,
    "start_time": "2022-08-24T07:39:54.570Z"
   },
   {
    "duration": 16,
    "start_time": "2022-08-24T07:39:54.599Z"
   },
   {
    "duration": 15,
    "start_time": "2022-08-24T07:39:54.617Z"
   },
   {
    "duration": 6,
    "start_time": "2022-08-24T07:39:54.635Z"
   },
   {
    "duration": 57,
    "start_time": "2022-08-24T07:39:54.643Z"
   },
   {
    "duration": 6,
    "start_time": "2022-08-24T07:39:54.701Z"
   },
   {
    "duration": 8,
    "start_time": "2022-08-24T07:39:54.709Z"
   },
   {
    "duration": 34,
    "start_time": "2022-08-24T07:39:54.720Z"
   },
   {
    "duration": 36,
    "start_time": "2022-08-24T07:39:54.756Z"
   },
   {
    "duration": 7,
    "start_time": "2022-08-24T07:39:54.794Z"
   },
   {
    "duration": 10,
    "start_time": "2022-08-24T07:39:54.803Z"
   },
   {
    "duration": 11,
    "start_time": "2022-08-24T07:39:54.815Z"
   },
   {
    "duration": 87,
    "start_time": "2022-08-24T07:39:54.829Z"
   },
   {
    "duration": 526,
    "start_time": "2022-08-24T07:39:54.992Z"
   },
   {
    "duration": 496875,
    "start_time": "2022-08-24T07:39:55.520Z"
   },
   {
    "duration": 179,
    "start_time": "2022-08-24T07:48:12.397Z"
   },
   {
    "duration": 47813,
    "start_time": "2022-08-24T07:48:12.578Z"
   },
   {
    "duration": 525,
    "start_time": "2022-08-24T07:49:00.392Z"
   },
   {
    "duration": 86408,
    "start_time": "2022-08-24T07:49:00.919Z"
   },
   {
    "duration": 912,
    "start_time": "2022-08-24T07:50:27.329Z"
   },
   {
    "duration": 21493,
    "start_time": "2022-08-24T07:50:28.244Z"
   },
   {
    "duration": 193,
    "start_time": "2022-08-24T07:50:49.739Z"
   },
   {
    "duration": 60,
    "start_time": "2022-08-24T07:50:49.934Z"
   },
   {
    "duration": 141,
    "start_time": "2022-08-24T07:50:49.998Z"
   },
   {
    "duration": 8,
    "start_time": "2022-08-24T07:50:50.141Z"
   },
   {
    "duration": 15,
    "start_time": "2022-08-24T07:58:39.291Z"
   },
   {
    "duration": 109,
    "start_time": "2022-08-24T08:05:05.412Z"
   },
   {
    "duration": 2374,
    "start_time": "2022-08-24T08:05:46.487Z"
   },
   {
    "duration": 1209,
    "start_time": "2022-08-24T08:06:17.340Z"
   },
   {
    "duration": 44,
    "start_time": "2022-08-24T08:06:18.551Z"
   },
   {
    "duration": 23,
    "start_time": "2022-08-24T08:06:18.597Z"
   },
   {
    "duration": 15,
    "start_time": "2022-08-24T08:06:18.622Z"
   },
   {
    "duration": 7,
    "start_time": "2022-08-24T08:06:18.641Z"
   },
   {
    "duration": 43,
    "start_time": "2022-08-24T08:06:18.650Z"
   },
   {
    "duration": 15,
    "start_time": "2022-08-24T08:06:18.695Z"
   },
   {
    "duration": 12,
    "start_time": "2022-08-24T08:06:18.712Z"
   },
   {
    "duration": 9,
    "start_time": "2022-08-24T08:06:18.726Z"
   },
   {
    "duration": 27,
    "start_time": "2022-08-24T08:06:18.736Z"
   },
   {
    "duration": 2,
    "start_time": "2022-08-24T08:06:18.765Z"
   },
   {
    "duration": 27,
    "start_time": "2022-08-24T08:06:18.768Z"
   },
   {
    "duration": 34,
    "start_time": "2022-08-24T08:06:18.798Z"
   },
   {
    "duration": 14,
    "start_time": "2022-08-24T08:06:18.835Z"
   },
   {
    "duration": 7,
    "start_time": "2022-08-24T08:06:18.852Z"
   },
   {
    "duration": 35,
    "start_time": "2022-08-24T08:06:18.860Z"
   },
   {
    "duration": 15,
    "start_time": "2022-08-24T08:06:18.897Z"
   },
   {
    "duration": 83,
    "start_time": "2022-08-24T08:06:18.914Z"
   },
   {
    "duration": 600,
    "start_time": "2022-08-24T08:06:19.000Z"
   },
   {
    "duration": 474490,
    "start_time": "2022-08-24T08:06:19.602Z"
   },
   {
    "duration": 169,
    "start_time": "2022-08-24T08:14:14.094Z"
   },
   {
    "duration": 43909,
    "start_time": "2022-08-24T08:14:14.265Z"
   },
   {
    "duration": 515,
    "start_time": "2022-08-24T08:14:58.176Z"
   },
   {
    "duration": 82038,
    "start_time": "2022-08-24T08:14:58.693Z"
   },
   {
    "duration": 837,
    "start_time": "2022-08-24T08:16:20.733Z"
   },
   {
    "duration": 20692,
    "start_time": "2022-08-24T08:16:21.573Z"
   },
   {
    "duration": 238,
    "start_time": "2022-08-24T08:16:42.267Z"
   },
   {
    "duration": 21,
    "start_time": "2022-08-24T08:16:42.509Z"
   },
   {
    "duration": 211,
    "start_time": "2022-08-24T08:16:42.531Z"
   },
   {
    "duration": 10,
    "start_time": "2022-08-24T08:16:42.744Z"
   },
   {
    "duration": 8,
    "start_time": "2022-08-24T08:18:01.517Z"
   },
   {
    "duration": 134,
    "start_time": "2022-08-24T08:38:58.330Z"
   },
   {
    "duration": 39,
    "start_time": "2022-08-24T08:39:29.659Z"
   },
   {
    "duration": 36,
    "start_time": "2022-08-24T08:44:26.664Z"
   },
   {
    "duration": 36,
    "start_time": "2022-08-24T08:44:30.603Z"
   },
   {
    "duration": 167,
    "start_time": "2022-08-24T08:52:19.994Z"
   },
   {
    "duration": 178,
    "start_time": "2022-08-24T08:53:51.033Z"
   },
   {
    "duration": 61,
    "start_time": "2022-08-24T09:04:48.355Z"
   },
   {
    "duration": 60,
    "start_time": "2022-08-24T09:06:58.972Z"
   },
   {
    "duration": 146,
    "start_time": "2022-08-24T09:13:07.596Z"
   },
   {
    "duration": 52,
    "start_time": "2022-08-24T09:18:10.674Z"
   },
   {
    "duration": 48,
    "start_time": "2022-08-25T07:38:42.882Z"
   },
   {
    "duration": 7,
    "start_time": "2022-08-25T07:38:50.324Z"
   },
   {
    "duration": 7,
    "start_time": "2022-08-25T07:39:09.422Z"
   },
   {
    "duration": 1283,
    "start_time": "2022-08-25T07:39:18.216Z"
   },
   {
    "duration": 79,
    "start_time": "2022-08-25T07:39:19.501Z"
   },
   {
    "duration": 34,
    "start_time": "2022-08-25T07:39:19.582Z"
   },
   {
    "duration": 14,
    "start_time": "2022-08-25T07:39:19.617Z"
   },
   {
    "duration": 7,
    "start_time": "2022-08-25T07:39:19.633Z"
   },
   {
    "duration": 17,
    "start_time": "2022-08-25T07:39:19.642Z"
   },
   {
    "duration": 42,
    "start_time": "2022-08-25T07:39:19.661Z"
   },
   {
    "duration": 6,
    "start_time": "2022-08-25T07:39:19.704Z"
   },
   {
    "duration": 25,
    "start_time": "2022-08-25T07:39:19.712Z"
   },
   {
    "duration": 7,
    "start_time": "2022-08-25T07:39:19.739Z"
   },
   {
    "duration": 7,
    "start_time": "2022-08-25T07:39:19.747Z"
   },
   {
    "duration": 8,
    "start_time": "2022-08-25T07:39:19.756Z"
   },
   {
    "duration": 59,
    "start_time": "2022-08-25T07:39:19.766Z"
   },
   {
    "duration": 7,
    "start_time": "2022-08-25T07:39:19.828Z"
   },
   {
    "duration": 6,
    "start_time": "2022-08-25T07:39:19.838Z"
   },
   {
    "duration": 66,
    "start_time": "2022-08-25T07:39:19.846Z"
   },
   {
    "duration": 477,
    "start_time": "2022-08-25T07:39:20.003Z"
   },
   {
    "duration": 40,
    "start_time": "2022-08-25T07:39:20.482Z"
   },
   {
    "duration": 440934,
    "start_time": "2022-08-25T07:39:20.524Z"
   },
   {
    "duration": 170,
    "start_time": "2022-08-25T07:46:41.460Z"
   },
   {
    "duration": 80,
    "start_time": "2022-08-25T07:46:41.632Z"
   },
   {
    "duration": 212,
    "start_time": "2022-08-25T07:46:41.714Z"
   },
   {
    "duration": 40973,
    "start_time": "2022-08-25T07:46:41.928Z"
   },
   {
    "duration": 132,
    "start_time": "2022-08-25T07:47:22.903Z"
   },
   {
    "duration": 482,
    "start_time": "2022-08-25T07:47:23.037Z"
   },
   {
    "duration": 35,
    "start_time": "2022-08-25T07:47:23.521Z"
   },
   {
    "duration": 75450,
    "start_time": "2022-08-25T07:47:23.558Z"
   },
   {
    "duration": 1430,
    "start_time": "2022-08-25T07:48:39.011Z"
   },
   {
    "duration": 744,
    "start_time": "2022-08-25T07:48:40.443Z"
   },
   {
    "duration": 19073,
    "start_time": "2022-08-25T07:48:41.189Z"
   },
   {
    "duration": 210,
    "start_time": "2022-08-25T07:49:00.264Z"
   },
   {
    "duration": 32,
    "start_time": "2022-08-25T07:49:00.476Z"
   },
   {
    "duration": 230,
    "start_time": "2022-08-25T07:49:00.510Z"
   },
   {
    "duration": 8,
    "start_time": "2022-08-25T07:49:00.742Z"
   },
   {
    "duration": 56,
    "start_time": "2022-08-25T07:49:22.591Z"
   },
   {
    "duration": 39,
    "start_time": "2022-08-25T07:49:25.543Z"
   },
   {
    "duration": 32,
    "start_time": "2022-08-25T07:49:28.719Z"
   },
   {
    "duration": 275,
    "start_time": "2022-08-25T07:54:05.108Z"
   },
   {
    "duration": 1317,
    "start_time": "2022-08-25T07:54:33.375Z"
   },
   {
    "duration": 16,
    "start_time": "2022-08-25T07:55:56.080Z"
   },
   {
    "duration": 16,
    "start_time": "2022-08-25T07:56:32.631Z"
   },
   {
    "duration": 16,
    "start_time": "2022-08-25T07:57:35.196Z"
   },
   {
    "duration": 1131,
    "start_time": "2022-08-25T07:58:13.667Z"
   },
   {
    "duration": 40,
    "start_time": "2022-08-25T07:58:14.800Z"
   },
   {
    "duration": 21,
    "start_time": "2022-08-25T07:58:14.842Z"
   },
   {
    "duration": 13,
    "start_time": "2022-08-25T07:58:14.864Z"
   },
   {
    "duration": 5,
    "start_time": "2022-08-25T07:58:14.880Z"
   },
   {
    "duration": 21,
    "start_time": "2022-08-25T07:58:14.887Z"
   },
   {
    "duration": 13,
    "start_time": "2022-08-25T07:58:14.909Z"
   },
   {
    "duration": 6,
    "start_time": "2022-08-25T07:58:14.923Z"
   },
   {
    "duration": 23,
    "start_time": "2022-08-25T07:58:14.930Z"
   },
   {
    "duration": 6,
    "start_time": "2022-08-25T07:58:14.955Z"
   },
   {
    "duration": 20,
    "start_time": "2022-08-25T07:58:14.962Z"
   },
   {
    "duration": 22,
    "start_time": "2022-08-25T07:58:14.984Z"
   },
   {
    "duration": 53,
    "start_time": "2022-08-25T07:58:15.008Z"
   },
   {
    "duration": 11,
    "start_time": "2022-08-25T07:58:15.064Z"
   },
   {
    "duration": 5,
    "start_time": "2022-08-25T07:58:15.077Z"
   },
   {
    "duration": 30,
    "start_time": "2022-08-25T07:58:15.084Z"
   },
   {
    "duration": 556,
    "start_time": "2022-08-25T07:58:15.203Z"
   },
   {
    "duration": 42,
    "start_time": "2022-08-25T07:58:15.761Z"
   },
   {
    "duration": 441279,
    "start_time": "2022-08-25T07:58:15.805Z"
   },
   {
    "duration": 178,
    "start_time": "2022-08-25T08:05:37.085Z"
   },
   {
    "duration": 138,
    "start_time": "2022-08-25T08:05:37.265Z"
   },
   {
    "duration": 152,
    "start_time": "2022-08-25T08:05:37.405Z"
   },
   {
    "duration": 40979,
    "start_time": "2022-08-25T08:05:37.604Z"
   },
   {
    "duration": 145,
    "start_time": "2022-08-25T08:06:18.585Z"
   },
   {
    "duration": 514,
    "start_time": "2022-08-25T08:06:18.731Z"
   },
   {
    "duration": 35,
    "start_time": "2022-08-25T08:06:19.246Z"
   },
   {
    "duration": 76330,
    "start_time": "2022-08-25T08:06:19.283Z"
   },
   {
    "duration": 1427,
    "start_time": "2022-08-25T08:07:35.615Z"
   },
   {
    "duration": 764,
    "start_time": "2022-08-25T08:07:37.045Z"
   },
   {
    "duration": 54,
    "start_time": "2022-08-25T08:07:37.811Z"
   },
   {
    "duration": 136,
    "start_time": "2022-08-25T08:07:37.868Z"
   },
   {
    "duration": 201,
    "start_time": "2022-08-25T08:07:38.006Z"
   },
   {
    "duration": 19020,
    "start_time": "2022-08-25T08:07:38.209Z"
   },
   {
    "duration": 300,
    "start_time": "2022-08-25T08:07:57.231Z"
   },
   {
    "duration": 197,
    "start_time": "2022-08-25T08:07:57.535Z"
   },
   {
    "duration": 17,
    "start_time": "2022-08-25T08:07:57.733Z"
   },
   {
    "duration": 51,
    "start_time": "2022-08-25T08:07:57.752Z"
   },
   {
    "duration": 102,
    "start_time": "2022-08-25T08:07:57.805Z"
   },
   {
    "duration": 74,
    "start_time": "2022-08-25T08:14:53.023Z"
   },
   {
    "duration": 743,
    "start_time": "2022-08-25T08:15:55.206Z"
   },
   {
    "duration": 77,
    "start_time": "2022-08-25T08:16:22.735Z"
   },
   {
    "duration": 73,
    "start_time": "2022-08-25T08:16:37.769Z"
   },
   {
    "duration": 76,
    "start_time": "2022-08-25T08:16:58.790Z"
   },
   {
    "duration": 56,
    "start_time": "2022-08-25T08:17:06.380Z"
   },
   {
    "duration": 60,
    "start_time": "2022-08-25T08:17:12.975Z"
   },
   {
    "duration": 18,
    "start_time": "2022-08-25T08:17:24.240Z"
   },
   {
    "duration": 94,
    "start_time": "2022-08-25T08:17:38.935Z"
   },
   {
    "duration": 82,
    "start_time": "2022-08-25T08:17:52.371Z"
   },
   {
    "duration": 19,
    "start_time": "2022-08-25T08:18:54.253Z"
   },
   {
    "duration": 81,
    "start_time": "2022-08-25T08:28:36.265Z"
   },
   {
    "duration": 42,
    "start_time": "2022-08-25T08:28:42.677Z"
   },
   {
    "duration": 21,
    "start_time": "2022-08-25T08:28:54.195Z"
   },
   {
    "duration": 19,
    "start_time": "2022-08-25T08:29:33.481Z"
   },
   {
    "duration": 58,
    "start_time": "2022-08-25T08:29:39.628Z"
   },
   {
    "duration": 74,
    "start_time": "2022-08-25T08:29:46.495Z"
   },
   {
    "duration": 74,
    "start_time": "2022-08-25T08:30:41.143Z"
   },
   {
    "duration": 26,
    "start_time": "2022-08-25T08:30:47.444Z"
   },
   {
    "duration": 65,
    "start_time": "2022-08-25T08:31:48.931Z"
   },
   {
    "duration": 70,
    "start_time": "2022-08-25T08:32:04.716Z"
   },
   {
    "duration": 55,
    "start_time": "2022-08-25T08:32:47.182Z"
   },
   {
    "duration": 74,
    "start_time": "2022-08-25T08:32:53.638Z"
   },
   {
    "duration": 75,
    "start_time": "2022-08-25T08:33:07.911Z"
   },
   {
    "duration": 75,
    "start_time": "2022-08-25T08:33:39.786Z"
   },
   {
    "duration": 55,
    "start_time": "2022-08-25T08:34:39.246Z"
   },
   {
    "duration": 86,
    "start_time": "2022-08-25T08:34:46.109Z"
   },
   {
    "duration": 133,
    "start_time": "2022-08-25T09:14:24.047Z"
   },
   {
    "duration": 140,
    "start_time": "2022-08-25T09:15:04.299Z"
   },
   {
    "duration": 135,
    "start_time": "2022-08-25T09:15:47.518Z"
   },
   {
    "duration": 135,
    "start_time": "2022-08-25T09:16:06.817Z"
   },
   {
    "duration": 277,
    "start_time": "2022-08-25T09:17:36.312Z"
   },
   {
    "duration": 188,
    "start_time": "2022-08-25T09:18:05.382Z"
   },
   {
    "duration": 214,
    "start_time": "2022-08-25T09:18:36.094Z"
   },
   {
    "duration": 52,
    "start_time": "2022-08-26T09:22:55.435Z"
   },
   {
    "duration": 1195,
    "start_time": "2022-08-26T09:26:02.572Z"
   },
   {
    "duration": 364,
    "start_time": "2022-08-26T09:26:03.769Z"
   },
   {
    "duration": 31,
    "start_time": "2022-08-26T09:26:04.135Z"
   },
   {
    "duration": 14,
    "start_time": "2022-08-26T09:26:04.167Z"
   },
   {
    "duration": 6,
    "start_time": "2022-08-26T09:26:04.184Z"
   },
   {
    "duration": 14,
    "start_time": "2022-08-26T09:26:04.192Z"
   },
   {
    "duration": 17,
    "start_time": "2022-08-26T09:26:04.208Z"
   },
   {
    "duration": 8,
    "start_time": "2022-08-26T09:26:04.227Z"
   },
   {
    "duration": 27,
    "start_time": "2022-08-26T09:26:04.267Z"
   },
   {
    "duration": 6,
    "start_time": "2022-08-26T09:26:04.296Z"
   },
   {
    "duration": 7,
    "start_time": "2022-08-26T09:26:04.304Z"
   },
   {
    "duration": 14,
    "start_time": "2022-08-26T09:26:04.312Z"
   },
   {
    "duration": 40,
    "start_time": "2022-08-26T09:26:04.328Z"
   },
   {
    "duration": 9,
    "start_time": "2022-08-26T09:26:04.372Z"
   },
   {
    "duration": 9,
    "start_time": "2022-08-26T09:26:04.383Z"
   },
   {
    "duration": 74,
    "start_time": "2022-08-26T09:26:04.394Z"
   },
   {
    "duration": 535,
    "start_time": "2022-08-26T09:26:04.470Z"
   },
   {
    "duration": 35,
    "start_time": "2022-08-26T09:26:05.006Z"
   },
   {
    "duration": 462478,
    "start_time": "2022-08-26T09:26:05.043Z"
   },
   {
    "duration": 172,
    "start_time": "2022-08-26T09:33:47.523Z"
   },
   {
    "duration": 80,
    "start_time": "2022-08-26T09:33:47.697Z"
   },
   {
    "duration": 189,
    "start_time": "2022-08-26T09:33:47.779Z"
   },
   {
    "duration": 44214,
    "start_time": "2022-08-26T09:33:47.970Z"
   },
   {
    "duration": 156,
    "start_time": "2022-08-26T09:34:32.186Z"
   },
   {
    "duration": 514,
    "start_time": "2022-08-26T09:34:32.344Z"
   },
   {
    "duration": 48,
    "start_time": "2022-08-26T09:34:32.860Z"
   },
   {
    "duration": 80000,
    "start_time": "2022-08-26T09:34:32.910Z"
   },
   {
    "duration": 1339,
    "start_time": "2022-08-26T09:35:52.911Z"
   },
   {
    "duration": 751,
    "start_time": "2022-08-26T09:35:54.252Z"
   },
   {
    "duration": 86,
    "start_time": "2022-08-26T09:35:55.005Z"
   },
   {
    "duration": 78,
    "start_time": "2022-08-26T09:35:55.093Z"
   },
   {
    "duration": 194,
    "start_time": "2022-08-26T09:35:55.174Z"
   },
   {
    "duration": 19043,
    "start_time": "2022-08-26T09:35:55.370Z"
   },
   {
    "duration": 294,
    "start_time": "2022-08-26T09:36:14.415Z"
   },
   {
    "duration": 191,
    "start_time": "2022-08-26T09:36:14.711Z"
   },
   {
    "duration": 15,
    "start_time": "2022-08-26T09:36:14.904Z"
   },
   {
    "duration": 47,
    "start_time": "2022-08-26T09:36:14.921Z"
   },
   {
    "duration": 110,
    "start_time": "2022-08-26T09:36:14.971Z"
   },
   {
    "duration": 320,
    "start_time": "2022-08-26T09:36:15.083Z"
   },
   {
    "duration": 16,
    "start_time": "2022-08-26T09:36:15.405Z"
   },
   {
    "duration": 217,
    "start_time": "2022-08-26T09:36:15.426Z"
   },
   {
    "duration": 159,
    "start_time": "2022-08-26T09:36:15.645Z"
   },
   {
    "duration": 17,
    "start_time": "2022-08-26T09:38:15.097Z"
   },
   {
    "duration": 179,
    "start_time": "2022-08-26T09:38:49.519Z"
   },
   {
    "duration": 167,
    "start_time": "2022-08-26T09:39:45.802Z"
   },
   {
    "duration": 169,
    "start_time": "2022-08-26T09:41:34.239Z"
   },
   {
    "duration": 25,
    "start_time": "2022-08-26T09:41:48.460Z"
   },
   {
    "duration": 249,
    "start_time": "2022-08-26T09:43:33.516Z"
   },
   {
    "duration": 1123,
    "start_time": "2022-08-26T09:59:59.608Z"
   },
   {
    "duration": 44,
    "start_time": "2022-08-26T10:00:00.733Z"
   },
   {
    "duration": 24,
    "start_time": "2022-08-26T10:00:00.779Z"
   },
   {
    "duration": 29,
    "start_time": "2022-08-26T10:00:00.805Z"
   },
   {
    "duration": 22,
    "start_time": "2022-08-26T10:00:00.837Z"
   },
   {
    "duration": 33,
    "start_time": "2022-08-26T10:00:00.861Z"
   },
   {
    "duration": 15,
    "start_time": "2022-08-26T10:00:00.896Z"
   },
   {
    "duration": 9,
    "start_time": "2022-08-26T10:00:00.913Z"
   },
   {
    "duration": 31,
    "start_time": "2022-08-26T10:00:00.923Z"
   },
   {
    "duration": 21,
    "start_time": "2022-08-26T10:00:00.956Z"
   },
   {
    "duration": 43,
    "start_time": "2022-08-26T10:00:00.979Z"
   },
   {
    "duration": 43,
    "start_time": "2022-08-26T10:00:01.024Z"
   },
   {
    "duration": 52,
    "start_time": "2022-08-26T10:00:01.069Z"
   },
   {
    "duration": 10,
    "start_time": "2022-08-26T10:00:01.124Z"
   },
   {
    "duration": 42,
    "start_time": "2022-08-26T10:00:01.135Z"
   },
   {
    "duration": 33,
    "start_time": "2022-08-26T10:00:01.180Z"
   },
   {
    "duration": 631,
    "start_time": "2022-08-26T10:00:01.215Z"
   },
   {
    "duration": 44,
    "start_time": "2022-08-26T10:00:01.849Z"
   },
   {
    "duration": 458360,
    "start_time": "2022-08-26T10:00:01.895Z"
   },
   {
    "duration": 177,
    "start_time": "2022-08-26T10:07:40.258Z"
   },
   {
    "duration": 62,
    "start_time": "2022-08-26T10:07:40.437Z"
   },
   {
    "duration": 205,
    "start_time": "2022-08-26T10:07:40.501Z"
   },
   {
    "duration": 43009,
    "start_time": "2022-08-26T10:07:40.773Z"
   },
   {
    "duration": 142,
    "start_time": "2022-08-26T10:08:23.784Z"
   },
   {
    "duration": 500,
    "start_time": "2022-08-26T10:08:23.928Z"
   },
   {
    "duration": 50,
    "start_time": "2022-08-26T10:08:24.430Z"
   },
   {
    "duration": 81210,
    "start_time": "2022-08-26T10:08:24.481Z"
   },
   {
    "duration": 1468,
    "start_time": "2022-08-26T10:09:45.693Z"
   },
   {
    "duration": 788,
    "start_time": "2022-08-26T10:09:47.162Z"
   },
   {
    "duration": 88,
    "start_time": "2022-08-26T10:09:47.952Z"
   },
   {
    "duration": 43,
    "start_time": "2022-08-26T10:09:48.041Z"
   },
   {
    "duration": 189,
    "start_time": "2022-08-26T10:09:48.088Z"
   },
   {
    "duration": 20223,
    "start_time": "2022-08-26T10:09:48.282Z"
   },
   {
    "duration": 294,
    "start_time": "2022-08-26T10:10:08.507Z"
   },
   {
    "duration": 183,
    "start_time": "2022-08-26T10:10:08.803Z"
   },
   {
    "duration": 15,
    "start_time": "2022-08-26T10:10:08.988Z"
   },
   {
    "duration": 83,
    "start_time": "2022-08-26T10:10:09.005Z"
   },
   {
    "duration": 19,
    "start_time": "2022-08-26T10:10:09.169Z"
   },
   {
    "duration": 425,
    "start_time": "2022-08-26T10:10:09.191Z"
   },
   {
    "duration": 0,
    "start_time": "2022-08-26T10:10:09.618Z"
   },
   {
    "duration": 153,
    "start_time": "2022-08-26T10:24:08.610Z"
   },
   {
    "duration": 225,
    "start_time": "2022-08-26T10:24:42.317Z"
   },
   {
    "duration": 1242,
    "start_time": "2022-08-26T10:29:22.119Z"
   },
   {
    "duration": 45,
    "start_time": "2022-08-26T10:29:23.363Z"
   },
   {
    "duration": 33,
    "start_time": "2022-08-26T10:29:23.410Z"
   },
   {
    "duration": 24,
    "start_time": "2022-08-26T10:29:23.445Z"
   },
   {
    "duration": 18,
    "start_time": "2022-08-26T10:29:23.472Z"
   },
   {
    "duration": 34,
    "start_time": "2022-08-26T10:29:23.492Z"
   },
   {
    "duration": 41,
    "start_time": "2022-08-26T10:29:23.529Z"
   },
   {
    "duration": 14,
    "start_time": "2022-08-26T10:29:23.572Z"
   },
   {
    "duration": 47,
    "start_time": "2022-08-26T10:29:23.588Z"
   },
   {
    "duration": 25,
    "start_time": "2022-08-26T10:29:23.637Z"
   },
   {
    "duration": 13,
    "start_time": "2022-08-26T10:29:23.664Z"
   },
   {
    "duration": 27,
    "start_time": "2022-08-26T10:29:23.680Z"
   },
   {
    "duration": 71,
    "start_time": "2022-08-26T10:29:23.709Z"
   },
   {
    "duration": 19,
    "start_time": "2022-08-26T10:29:23.784Z"
   },
   {
    "duration": 14,
    "start_time": "2022-08-26T10:29:23.805Z"
   },
   {
    "duration": 147,
    "start_time": "2022-08-26T10:29:23.821Z"
   },
   {
    "duration": 644,
    "start_time": "2022-08-26T10:29:23.969Z"
   },
   {
    "duration": 37,
    "start_time": "2022-08-26T10:29:24.615Z"
   },
   {
    "duration": 457775,
    "start_time": "2022-08-26T10:29:24.667Z"
   },
   {
    "duration": 190,
    "start_time": "2022-08-26T10:37:02.445Z"
   },
   {
    "duration": 59,
    "start_time": "2022-08-26T10:37:02.638Z"
   },
   {
    "duration": 212,
    "start_time": "2022-08-26T10:37:02.699Z"
   },
   {
    "duration": 39911,
    "start_time": "2022-08-26T10:37:02.969Z"
   },
   {
    "duration": 138,
    "start_time": "2022-08-26T10:37:42.882Z"
   },
   {
    "duration": 480,
    "start_time": "2022-08-26T10:37:43.022Z"
   },
   {
    "duration": 38,
    "start_time": "2022-08-26T10:37:43.505Z"
   },
   {
    "duration": 74123,
    "start_time": "2022-08-26T10:37:43.545Z"
   },
   {
    "duration": 1346,
    "start_time": "2022-08-26T10:38:57.670Z"
   },
   {
    "duration": 731,
    "start_time": "2022-08-26T10:38:59.018Z"
   },
   {
    "duration": 79,
    "start_time": "2022-08-26T10:38:59.751Z"
   },
   {
    "duration": 38,
    "start_time": "2022-08-26T10:38:59.832Z"
   },
   {
    "duration": 208,
    "start_time": "2022-08-26T10:38:59.871Z"
   },
   {
    "duration": 18358,
    "start_time": "2022-08-26T10:39:00.083Z"
   },
   {
    "duration": 275,
    "start_time": "2022-08-26T10:39:18.443Z"
   },
   {
    "duration": 159,
    "start_time": "2022-08-26T10:39:18.720Z"
   },
   {
    "duration": 13,
    "start_time": "2022-08-26T10:39:18.881Z"
   },
   {
    "duration": 13,
    "start_time": "2022-08-26T10:39:18.896Z"
   },
   {
    "duration": 162,
    "start_time": "2022-08-26T10:39:18.910Z"
   },
   {
    "duration": 342,
    "start_time": "2022-08-26T10:39:19.074Z"
   },
   {
    "duration": 212,
    "start_time": "2022-08-26T10:39:19.418Z"
   },
   {
    "duration": 1327,
    "start_time": "2022-08-26T11:20:01.225Z"
   },
   {
    "duration": 103,
    "start_time": "2022-08-26T11:20:02.554Z"
   },
   {
    "duration": 25,
    "start_time": "2022-08-26T11:20:02.659Z"
   },
   {
    "duration": 16,
    "start_time": "2022-08-26T11:20:02.935Z"
   },
   {
    "duration": 5,
    "start_time": "2022-08-26T11:20:04.060Z"
   },
   {
    "duration": 13,
    "start_time": "2022-08-26T11:20:04.424Z"
   },
   {
    "duration": 16,
    "start_time": "2022-08-26T11:20:05.002Z"
   },
   {
    "duration": 6,
    "start_time": "2022-08-26T11:20:05.565Z"
   },
   {
    "duration": 23,
    "start_time": "2022-08-26T11:20:06.198Z"
   },
   {
    "duration": 5,
    "start_time": "2022-08-26T11:20:08.004Z"
   },
   {
    "duration": 3,
    "start_time": "2022-08-26T11:20:11.196Z"
   },
   {
    "duration": 5,
    "start_time": "2022-08-26T11:20:11.564Z"
   },
   {
    "duration": 30,
    "start_time": "2022-08-26T11:20:12.627Z"
   },
   {
    "duration": 8,
    "start_time": "2022-08-26T11:20:16.745Z"
   },
   {
    "duration": 4,
    "start_time": "2022-08-26T11:20:17.744Z"
   },
   {
    "duration": 25,
    "start_time": "2022-08-26T11:20:27.927Z"
   },
   {
    "duration": 215,
    "start_time": "2022-08-26T11:20:38.698Z"
   },
   {
    "duration": 137,
    "start_time": "2022-08-26T11:23:58.394Z"
   },
   {
    "duration": 23,
    "start_time": "2022-08-26T11:27:09.060Z"
   },
   {
    "duration": 8,
    "start_time": "2022-08-26T11:27:13.447Z"
   },
   {
    "duration": 4,
    "start_time": "2022-08-26T11:27:13.888Z"
   },
   {
    "duration": 14,
    "start_time": "2022-08-26T11:27:17.344Z"
   },
   {
    "duration": 23,
    "start_time": "2022-08-26T11:27:23.663Z"
   },
   {
    "duration": 3,
    "start_time": "2022-08-26T11:29:20.847Z"
   },
   {
    "duration": 6,
    "start_time": "2022-08-26T11:29:21.327Z"
   },
   {
    "duration": 10,
    "start_time": "2022-08-26T11:29:24.979Z"
   },
   {
    "duration": 4,
    "start_time": "2022-08-26T11:29:25.787Z"
   },
   {
    "duration": 74,
    "start_time": "2022-08-26T11:29:31.440Z"
   },
   {
    "duration": 32,
    "start_time": "2022-08-26T11:44:29.813Z"
   },
   {
    "duration": 9,
    "start_time": "2022-08-26T11:44:33.578Z"
   },
   {
    "duration": 4,
    "start_time": "2022-08-26T11:44:34.148Z"
   },
   {
    "duration": 21,
    "start_time": "2022-08-26T11:44:37.010Z"
   },
   {
    "duration": 27,
    "start_time": "2022-08-26T11:44:47.932Z"
   },
   {
    "duration": 5,
    "start_time": "2022-08-26T11:46:20.904Z"
   },
   {
    "duration": 3,
    "start_time": "2022-08-26T11:46:24.166Z"
   },
   {
    "duration": 4,
    "start_time": "2022-08-26T11:46:24.641Z"
   },
   {
    "duration": 26,
    "start_time": "2022-08-26T11:46:27.042Z"
   },
   {
    "duration": 8,
    "start_time": "2022-08-26T11:46:30.757Z"
   },
   {
    "duration": 136,
    "start_time": "2022-08-26T11:48:14.382Z"
   },
   {
    "duration": 121,
    "start_time": "2022-08-26T11:51:00.473Z"
   },
   {
    "duration": 4,
    "start_time": "2022-08-26T11:53:56.800Z"
   },
   {
    "duration": 38,
    "start_time": "2022-08-26T11:53:57.257Z"
   },
   {
    "duration": 15,
    "start_time": "2022-08-26T11:53:57.432Z"
   },
   {
    "duration": 12,
    "start_time": "2022-08-26T11:53:57.570Z"
   },
   {
    "duration": 5,
    "start_time": "2022-08-26T11:53:58.390Z"
   },
   {
    "duration": 11,
    "start_time": "2022-08-26T11:53:58.738Z"
   },
   {
    "duration": 12,
    "start_time": "2022-08-26T11:53:59.286Z"
   },
   {
    "duration": 6,
    "start_time": "2022-08-26T11:54:01.210Z"
   },
   {
    "duration": 17,
    "start_time": "2022-08-26T11:54:03.008Z"
   },
   {
    "duration": 6,
    "start_time": "2022-08-26T11:54:06.713Z"
   },
   {
    "duration": 3,
    "start_time": "2022-08-26T11:54:10.152Z"
   },
   {
    "duration": 6,
    "start_time": "2022-08-26T11:54:10.598Z"
   },
   {
    "duration": 7,
    "start_time": "2022-08-26T11:54:13.852Z"
   },
   {
    "duration": 4,
    "start_time": "2022-08-26T11:54:14.448Z"
   },
   {
    "duration": 29,
    "start_time": "2022-08-26T11:54:24.290Z"
   },
   {
    "duration": 26,
    "start_time": "2022-08-26T12:00:30.590Z"
   },
   {
    "duration": 12,
    "start_time": "2022-08-26T12:03:00.938Z"
   },
   {
    "duration": 24,
    "start_time": "2022-08-26T12:03:21.210Z"
   },
   {
    "duration": 7,
    "start_time": "2022-08-26T12:03:25.320Z"
   },
   {
    "duration": 6,
    "start_time": "2022-08-26T12:03:26.061Z"
   },
   {
    "duration": 42,
    "start_time": "2022-08-26T12:03:28.791Z"
   },
   {
    "duration": 4,
    "start_time": "2022-08-26T12:07:02.388Z"
   },
   {
    "duration": 39,
    "start_time": "2022-08-26T12:07:02.968Z"
   },
   {
    "duration": 13,
    "start_time": "2022-08-26T12:07:03.398Z"
   },
   {
    "duration": 12,
    "start_time": "2022-08-26T12:07:03.738Z"
   },
   {
    "duration": 6,
    "start_time": "2022-08-26T12:07:08.140Z"
   },
   {
    "duration": 11,
    "start_time": "2022-08-26T12:07:10.815Z"
   },
   {
    "duration": 14,
    "start_time": "2022-08-26T12:07:31.579Z"
   },
   {
    "duration": 6,
    "start_time": "2022-08-26T12:07:34.374Z"
   },
   {
    "duration": 17,
    "start_time": "2022-08-26T12:07:37.094Z"
   },
   {
    "duration": 6,
    "start_time": "2022-08-26T12:07:41.288Z"
   },
   {
    "duration": 2,
    "start_time": "2022-08-26T12:07:45.116Z"
   },
   {
    "duration": 4,
    "start_time": "2022-08-26T12:07:45.588Z"
   },
   {
    "duration": 7,
    "start_time": "2022-08-26T12:08:00.390Z"
   },
   {
    "duration": 29,
    "start_time": "2022-08-26T12:08:02.736Z"
   },
   {
    "duration": 5,
    "start_time": "2022-08-26T12:08:04.911Z"
   },
   {
    "duration": 27,
    "start_time": "2022-08-26T12:08:07.768Z"
   },
   {
    "duration": 1443,
    "start_time": "2022-08-26T14:07:39.233Z"
   },
   {
    "duration": 180,
    "start_time": "2022-08-26T14:07:40.679Z"
   },
   {
    "duration": 43,
    "start_time": "2022-08-26T14:07:40.861Z"
   },
   {
    "duration": 14,
    "start_time": "2022-08-26T14:07:40.908Z"
   },
   {
    "duration": 6,
    "start_time": "2022-08-26T14:07:40.924Z"
   },
   {
    "duration": 15,
    "start_time": "2022-08-26T14:07:40.931Z"
   },
   {
    "duration": 14,
    "start_time": "2022-08-26T14:07:40.947Z"
   },
   {
    "duration": 13,
    "start_time": "2022-08-26T14:07:40.994Z"
   },
   {
    "duration": 21,
    "start_time": "2022-08-26T14:07:41.010Z"
   },
   {
    "duration": 6,
    "start_time": "2022-08-26T14:07:41.033Z"
   },
   {
    "duration": 5,
    "start_time": "2022-08-26T14:07:41.041Z"
   },
   {
    "duration": 9,
    "start_time": "2022-08-26T14:07:41.048Z"
   },
   {
    "duration": 60,
    "start_time": "2022-08-26T14:07:41.058Z"
   },
   {
    "duration": 9,
    "start_time": "2022-08-26T14:07:41.119Z"
   },
   {
    "duration": 5,
    "start_time": "2022-08-26T14:07:41.130Z"
   },
   {
    "duration": 69,
    "start_time": "2022-08-26T14:07:41.137Z"
   },
   {
    "duration": 622,
    "start_time": "2022-08-26T14:07:41.208Z"
   },
   {
    "duration": 42,
    "start_time": "2022-08-26T14:07:41.832Z"
   },
   {
    "duration": 1381,
    "start_time": "2022-08-26T14:18:35.052Z"
   },
   {
    "duration": 6,
    "start_time": "2022-08-26T14:18:39.412Z"
   },
   {
    "duration": 68,
    "start_time": "2022-08-26T14:18:39.420Z"
   },
   {
    "duration": 31,
    "start_time": "2022-08-26T14:18:39.490Z"
   },
   {
    "duration": 16,
    "start_time": "2022-08-26T14:18:39.523Z"
   },
   {
    "duration": 10,
    "start_time": "2022-08-26T14:18:39.541Z"
   },
   {
    "duration": 43,
    "start_time": "2022-08-26T14:18:39.554Z"
   },
   {
    "duration": 16,
    "start_time": "2022-08-26T14:18:39.599Z"
   },
   {
    "duration": 11,
    "start_time": "2022-08-26T14:18:39.617Z"
   },
   {
    "duration": 35,
    "start_time": "2022-08-26T14:18:39.630Z"
   },
   {
    "duration": 28,
    "start_time": "2022-08-26T14:18:39.667Z"
   },
   {
    "duration": 5,
    "start_time": "2022-08-26T14:18:39.697Z"
   },
   {
    "duration": 25,
    "start_time": "2022-08-26T14:18:39.703Z"
   },
   {
    "duration": 48,
    "start_time": "2022-08-26T14:18:39.730Z"
   },
   {
    "duration": 9,
    "start_time": "2022-08-26T14:18:39.780Z"
   },
   {
    "duration": 27,
    "start_time": "2022-08-26T14:18:39.791Z"
   },
   {
    "duration": 32,
    "start_time": "2022-08-26T14:18:39.820Z"
   },
   {
    "duration": 642,
    "start_time": "2022-08-26T14:18:39.897Z"
   },
   {
    "duration": 41,
    "start_time": "2022-08-26T14:18:40.541Z"
   },
   {
    "duration": 500036,
    "start_time": "2022-08-26T14:18:40.599Z"
   },
   {
    "duration": 179,
    "start_time": "2022-08-26T14:27:00.637Z"
   },
   {
    "duration": 91,
    "start_time": "2022-08-26T14:27:00.818Z"
   },
   {
    "duration": 209,
    "start_time": "2022-08-26T14:27:00.911Z"
   },
   {
    "duration": 46056,
    "start_time": "2022-08-26T14:27:01.122Z"
   },
   {
    "duration": 152,
    "start_time": "2022-08-26T14:27:47.180Z"
   },
   {
    "duration": 530,
    "start_time": "2022-08-26T14:27:47.333Z"
   },
   {
    "duration": 52,
    "start_time": "2022-08-26T14:27:47.865Z"
   },
   {
    "duration": 85931,
    "start_time": "2022-08-26T14:27:47.919Z"
   },
   {
    "duration": 1517,
    "start_time": "2022-08-26T14:29:13.854Z"
   },
   {
    "duration": 866,
    "start_time": "2022-08-26T14:29:15.373Z"
   },
   {
    "duration": 90,
    "start_time": "2022-08-26T14:29:16.241Z"
   },
   {
    "duration": 68,
    "start_time": "2022-08-26T14:29:16.333Z"
   },
   {
    "duration": 121,
    "start_time": "2022-08-26T14:29:16.403Z"
   },
   {
    "duration": 20816,
    "start_time": "2022-08-26T14:29:16.593Z"
   },
   {
    "duration": 316,
    "start_time": "2022-08-26T14:29:37.411Z"
   },
   {
    "duration": 197,
    "start_time": "2022-08-26T14:29:37.728Z"
   },
   {
    "duration": 17,
    "start_time": "2022-08-26T14:29:37.927Z"
   },
   {
    "duration": 151,
    "start_time": "2022-08-26T14:29:37.946Z"
   },
   {
    "duration": 107,
    "start_time": "2022-08-26T14:29:38.099Z"
   },
   {
    "duration": 298,
    "start_time": "2022-08-26T14:29:38.208Z"
   },
   {
    "duration": 225,
    "start_time": "2022-08-26T14:29:38.508Z"
   },
   {
    "duration": 47,
    "start_time": "2022-08-31T07:51:22.090Z"
   },
   {
    "duration": 1102,
    "start_time": "2022-08-31T07:52:37.686Z"
   },
   {
    "duration": 83,
    "start_time": "2022-08-31T07:52:38.790Z"
   },
   {
    "duration": 22,
    "start_time": "2022-08-31T07:52:38.875Z"
   },
   {
    "duration": 13,
    "start_time": "2022-08-31T07:52:38.899Z"
   },
   {
    "duration": 6,
    "start_time": "2022-08-31T07:52:38.915Z"
   },
   {
    "duration": 12,
    "start_time": "2022-08-31T07:52:38.923Z"
   },
   {
    "duration": 11,
    "start_time": "2022-08-31T07:52:38.937Z"
   },
   {
    "duration": 5,
    "start_time": "2022-08-31T07:52:38.950Z"
   },
   {
    "duration": 50,
    "start_time": "2022-08-31T07:52:38.957Z"
   },
   {
    "duration": 4,
    "start_time": "2022-08-31T07:52:39.009Z"
   },
   {
    "duration": 4,
    "start_time": "2022-08-31T07:52:39.015Z"
   },
   {
    "duration": 6,
    "start_time": "2022-08-31T07:52:39.020Z"
   },
   {
    "duration": 25,
    "start_time": "2022-08-31T07:52:39.027Z"
   },
   {
    "duration": 7,
    "start_time": "2022-08-31T07:52:39.055Z"
   },
   {
    "duration": 4,
    "start_time": "2022-08-31T07:52:39.063Z"
   },
   {
    "duration": 19,
    "start_time": "2022-08-31T07:52:39.098Z"
   },
   {
    "duration": 509,
    "start_time": "2022-08-31T07:52:39.119Z"
   },
   {
    "duration": 25,
    "start_time": "2022-08-31T07:52:39.630Z"
   },
   {
    "duration": 362624,
    "start_time": "2022-08-31T07:52:39.657Z"
   },
   {
    "duration": 135,
    "start_time": "2022-08-31T07:58:42.283Z"
   },
   {
    "duration": 19,
    "start_time": "2022-08-31T07:58:42.419Z"
   },
   {
    "duration": 162,
    "start_time": "2022-08-31T07:58:42.440Z"
   },
   {
    "duration": 33936,
    "start_time": "2022-08-31T07:58:42.604Z"
   },
   {
    "duration": 110,
    "start_time": "2022-08-31T07:59:16.542Z"
   },
   {
    "duration": 336,
    "start_time": "2022-08-31T07:59:16.653Z"
   },
   {
    "duration": 29,
    "start_time": "2022-08-31T07:59:16.991Z"
   },
   {
    "duration": 65362,
    "start_time": "2022-08-31T07:59:17.021Z"
   },
   {
    "duration": 1164,
    "start_time": "2022-08-31T08:00:22.385Z"
   },
   {
    "duration": 571,
    "start_time": "2022-08-31T08:00:23.551Z"
   },
   {
    "duration": 56,
    "start_time": "2022-08-31T08:00:24.124Z"
   },
   {
    "duration": 57,
    "start_time": "2022-08-31T08:00:24.182Z"
   },
   {
    "duration": 137,
    "start_time": "2022-08-31T08:00:24.301Z"
   },
   {
    "duration": 16425,
    "start_time": "2022-08-31T08:00:24.440Z"
   },
   {
    "duration": 246,
    "start_time": "2022-08-31T08:00:40.866Z"
   },
   {
    "duration": 140,
    "start_time": "2022-08-31T08:00:41.114Z"
   },
   {
    "duration": 13,
    "start_time": "2022-08-31T08:00:41.255Z"
   },
   {
    "duration": 35,
    "start_time": "2022-08-31T08:00:41.270Z"
   },
   {
    "duration": 190,
    "start_time": "2022-08-31T08:00:41.308Z"
   },
   {
    "duration": 229,
    "start_time": "2022-08-31T08:00:41.500Z"
   },
   {
    "duration": 191,
    "start_time": "2022-08-31T08:00:41.730Z"
   },
   {
    "duration": 24,
    "start_time": "2022-08-31T08:01:04.005Z"
   },
   {
    "duration": 23,
    "start_time": "2022-08-31T08:01:12.665Z"
   },
   {
    "duration": 431,
    "start_time": "2022-08-31T10:40:15.407Z"
   },
   {
    "duration": 608,
    "start_time": "2022-08-31T10:40:32.158Z"
   },
   {
    "duration": 1308,
    "start_time": "2022-08-31T10:44:58.476Z"
   },
   {
    "duration": 63,
    "start_time": "2022-08-31T10:44:59.785Z"
   },
   {
    "duration": 19,
    "start_time": "2022-08-31T10:44:59.850Z"
   },
   {
    "duration": 11,
    "start_time": "2022-08-31T10:44:59.871Z"
   },
   {
    "duration": 5,
    "start_time": "2022-08-31T10:44:59.885Z"
   },
   {
    "duration": 11,
    "start_time": "2022-08-31T10:44:59.892Z"
   },
   {
    "duration": 12,
    "start_time": "2022-08-31T10:44:59.905Z"
   },
   {
    "duration": 5,
    "start_time": "2022-08-31T10:44:59.918Z"
   },
   {
    "duration": 18,
    "start_time": "2022-08-31T10:44:59.925Z"
   },
   {
    "duration": 5,
    "start_time": "2022-08-31T10:44:59.945Z"
   },
   {
    "duration": 6,
    "start_time": "2022-08-31T10:44:59.951Z"
   },
   {
    "duration": 8,
    "start_time": "2022-08-31T10:44:59.959Z"
   },
   {
    "duration": 53,
    "start_time": "2022-08-31T10:44:59.969Z"
   },
   {
    "duration": 7,
    "start_time": "2022-08-31T10:45:00.025Z"
   },
   {
    "duration": 9,
    "start_time": "2022-08-31T10:45:00.033Z"
   },
   {
    "duration": 61,
    "start_time": "2022-08-31T10:45:00.043Z"
   },
   {
    "duration": 501,
    "start_time": "2022-08-31T10:45:00.106Z"
   },
   {
    "duration": 24,
    "start_time": "2022-08-31T10:45:00.609Z"
   },
   {
    "duration": 362205,
    "start_time": "2022-08-31T10:45:00.634Z"
   },
   {
    "duration": 127,
    "start_time": "2022-08-31T10:51:02.840Z"
   },
   {
    "duration": 37,
    "start_time": "2022-08-31T10:51:02.969Z"
   },
   {
    "duration": 194,
    "start_time": "2022-08-31T10:51:03.008Z"
   },
   {
    "duration": 33469,
    "start_time": "2022-08-31T10:51:03.204Z"
   },
   {
    "duration": 108,
    "start_time": "2022-08-31T10:51:36.674Z"
   },
   {
    "duration": 335,
    "start_time": "2022-08-31T10:51:36.784Z"
   },
   {
    "duration": 25,
    "start_time": "2022-08-31T10:51:37.120Z"
   },
   {
    "duration": 63984,
    "start_time": "2022-08-31T10:51:37.146Z"
   },
   {
    "duration": 1149,
    "start_time": "2022-08-31T10:52:41.132Z"
   },
   {
    "duration": 561,
    "start_time": "2022-08-31T10:52:42.284Z"
   },
   {
    "duration": 63,
    "start_time": "2022-08-31T10:52:42.846Z"
   },
   {
    "duration": 39,
    "start_time": "2022-08-31T10:52:42.910Z"
   },
   {
    "duration": 119,
    "start_time": "2022-08-31T10:52:43.009Z"
   },
   {
    "duration": 15691,
    "start_time": "2022-08-31T10:52:43.130Z"
   },
   {
    "duration": 243,
    "start_time": "2022-08-31T10:52:58.822Z"
   },
   {
    "duration": 141,
    "start_time": "2022-08-31T10:52:59.066Z"
   },
   {
    "duration": 13,
    "start_time": "2022-08-31T10:52:59.209Z"
   },
   {
    "duration": 77,
    "start_time": "2022-08-31T10:52:59.223Z"
   },
   {
    "duration": 108,
    "start_time": "2022-08-31T10:52:59.301Z"
   },
   {
    "duration": 642,
    "start_time": "2022-08-31T10:52:59.411Z"
   },
   {
    "duration": 619,
    "start_time": "2022-08-31T10:53:00.055Z"
   },
   {
    "duration": 108,
    "start_time": "2022-08-31T10:55:18.877Z"
   },
   {
    "duration": 29,
    "start_time": "2022-08-31T10:55:38.665Z"
   },
   {
    "duration": 399,
    "start_time": "2022-08-31T10:57:33.330Z"
   },
   {
    "duration": 28,
    "start_time": "2022-08-31T10:58:02.566Z"
   },
   {
    "duration": 777,
    "start_time": "2022-08-31T10:58:40.784Z"
   },
   {
    "duration": 58,
    "start_time": "2022-08-31T10:59:10.242Z"
   },
   {
    "duration": 158,
    "start_time": "2022-08-31T10:59:57.128Z"
   },
   {
    "duration": 14,
    "start_time": "2022-08-31T11:00:24.123Z"
   },
   {
    "duration": 1120,
    "start_time": "2022-08-31T11:02:59.634Z"
   },
   {
    "duration": 43,
    "start_time": "2022-08-31T11:03:00.756Z"
   },
   {
    "duration": 20,
    "start_time": "2022-08-31T11:03:00.801Z"
   },
   {
    "duration": 52,
    "start_time": "2022-08-31T11:03:00.823Z"
   },
   {
    "duration": 187,
    "start_time": "2022-08-31T11:03:00.876Z"
   },
   {
    "duration": 51,
    "start_time": "2022-08-31T11:03:01.065Z"
   },
   {
    "duration": 27,
    "start_time": "2022-08-31T11:03:01.117Z"
   },
   {
    "duration": 16,
    "start_time": "2022-08-31T11:03:01.145Z"
   },
   {
    "duration": 28,
    "start_time": "2022-08-31T11:03:01.163Z"
   },
   {
    "duration": 6,
    "start_time": "2022-08-31T11:03:01.193Z"
   },
   {
    "duration": 11,
    "start_time": "2022-08-31T11:03:01.200Z"
   },
   {
    "duration": 12,
    "start_time": "2022-08-31T11:03:01.213Z"
   },
   {
    "duration": 31,
    "start_time": "2022-08-31T11:03:01.227Z"
   },
   {
    "duration": 7,
    "start_time": "2022-08-31T11:03:01.260Z"
   },
   {
    "duration": 23,
    "start_time": "2022-08-31T11:03:01.269Z"
   },
   {
    "duration": 27,
    "start_time": "2022-08-31T11:03:01.294Z"
   },
   {
    "duration": 522,
    "start_time": "2022-08-31T11:03:01.324Z"
   },
   {
    "duration": 32,
    "start_time": "2022-08-31T11:03:01.848Z"
   },
   {
    "duration": 360987,
    "start_time": "2022-08-31T11:03:01.881Z"
   },
   {
    "duration": 115,
    "start_time": "2022-08-31T11:09:02.869Z"
   },
   {
    "duration": 24,
    "start_time": "2022-08-31T11:09:02.985Z"
   },
   {
    "duration": 195,
    "start_time": "2022-08-31T11:09:03.011Z"
   },
   {
    "duration": 33605,
    "start_time": "2022-08-31T11:09:03.208Z"
   },
   {
    "duration": 414,
    "start_time": "2022-08-31T11:09:36.815Z"
   },
   {
    "duration": 352,
    "start_time": "2022-08-31T11:09:37.231Z"
   },
   {
    "duration": 34,
    "start_time": "2022-08-31T11:09:37.585Z"
   },
   {
    "duration": 63893,
    "start_time": "2022-08-31T11:09:37.620Z"
   },
   {
    "duration": 764,
    "start_time": "2022-08-31T11:10:41.516Z"
   },
   {
    "duration": 560,
    "start_time": "2022-08-31T11:10:42.282Z"
   },
   {
    "duration": 60,
    "start_time": "2022-08-31T11:10:42.844Z"
   },
   {
    "duration": 38,
    "start_time": "2022-08-31T11:10:42.905Z"
   },
   {
    "duration": 184,
    "start_time": "2022-08-31T11:10:42.944Z"
   },
   {
    "duration": 15682,
    "start_time": "2022-08-31T11:10:43.129Z"
   },
   {
    "duration": 168,
    "start_time": "2022-08-31T11:10:58.813Z"
   },
   {
    "duration": 147,
    "start_time": "2022-08-31T11:10:58.982Z"
   },
   {
    "duration": 14,
    "start_time": "2022-08-31T11:10:59.131Z"
   },
   {
    "duration": 54,
    "start_time": "2022-08-31T11:10:59.147Z"
   },
   {
    "duration": 101,
    "start_time": "2022-08-31T11:10:59.203Z"
   },
   {
    "duration": 638,
    "start_time": "2022-08-31T11:10:59.305Z"
   },
   {
    "duration": 630,
    "start_time": "2022-08-31T11:10:59.945Z"
   }
  ],
  "kernelspec": {
   "display_name": "Python 3 (ipykernel)",
   "language": "python",
   "name": "python3"
  },
  "language_info": {
   "codemirror_mode": {
    "name": "ipython",
    "version": 3
   },
   "file_extension": ".py",
   "mimetype": "text/x-python",
   "name": "python",
   "nbconvert_exporter": "python",
   "pygments_lexer": "ipython3",
   "version": "3.9.7"
  },
  "toc": {
   "base_numbering": 1,
   "nav_menu": {},
   "number_sections": true,
   "sideBar": true,
   "skip_h1_title": true,
   "title_cell": "Содержание",
   "title_sidebar": "Contents",
   "toc_cell": true,
   "toc_position": {},
   "toc_section_display": true,
   "toc_window_display": true
  }
 },
 "nbformat": 4,
 "nbformat_minor": 2
}
